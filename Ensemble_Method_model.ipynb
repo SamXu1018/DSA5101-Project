{
 "cells": [
  {
   "cell_type": "code",
   "execution_count": 29,
   "id": "e85c99fe",
   "metadata": {},
   "outputs": [],
   "source": [
    "import pandas as pd\n",
    "import matplotlib.pyplot as plt\n",
    "import numpy as np"
   ]
  },
  {
   "cell_type": "code",
   "execution_count": 24,
   "id": "7f0c9178",
   "metadata": {},
   "outputs": [],
   "source": [
    "from sklearn.ensemble import RandomForestClassifier, VotingClassifier\n",
    "from sklearn.linear_model import LogisticRegression\n",
    "from sklearn.naive_bayes import GaussianNB\n",
    "from sklearn.model_selection import cross_val_score, GridSearchCV\n",
    "from sklearn.ensemble import AdaBoostClassifier, GradientBoostingClassifier\n",
    "from sklearn.model_selection import RandomizedSearchCV\n",
    "from sklearn import svm\n",
    "from sklearn import metrics\n",
    "from sklearn.metrics import accuracy_score, confusion_matrix, classification_report"
   ]
  },
  {
   "cell_type": "markdown",
   "id": "3de93f7b",
   "metadata": {},
   "source": [
    "## Display Training & Test data (top & bottom five datasets)"
   ]
  },
  {
   "cell_type": "code",
   "execution_count": 3,
   "id": "9b58d17d",
   "metadata": {},
   "outputs": [],
   "source": [
    "#load the csv file\n",
    "train_data = pd.read_csv('train_data_after_preprocess.csv')\n",
    "test_data = pd.read_csv('test_data_after_preprocess.csv')"
   ]
  },
  {
   "cell_type": "code",
   "execution_count": 4,
   "id": "1a6bad30",
   "metadata": {},
   "outputs": [
    {
     "data": {
      "text/plain": [
       "(63874, 29)"
      ]
     },
     "execution_count": 4,
     "metadata": {},
     "output_type": "execute_result"
    }
   ],
   "source": [
    "train_data.shape"
   ]
  },
  {
   "cell_type": "code",
   "execution_count": 5,
   "id": "301f36f1",
   "metadata": {},
   "outputs": [
    {
     "data": {
      "text/plain": [
       "(9043, 29)"
      ]
     },
     "execution_count": 5,
     "metadata": {},
     "output_type": "execute_result"
    }
   ],
   "source": [
    "test_data.shape"
   ]
  },
  {
   "cell_type": "code",
   "execution_count": 6,
   "id": "cfb4ea88",
   "metadata": {},
   "outputs": [
    {
     "data": {
      "text/html": [
       "<div>\n",
       "<style scoped>\n",
       "    .dataframe tbody tr th:only-of-type {\n",
       "        vertical-align: middle;\n",
       "    }\n",
       "\n",
       "    .dataframe tbody tr th {\n",
       "        vertical-align: top;\n",
       "    }\n",
       "\n",
       "    .dataframe thead th {\n",
       "        text-align: right;\n",
       "    }\n",
       "</style>\n",
       "<table border=\"1\" class=\"dataframe\">\n",
       "  <thead>\n",
       "    <tr style=\"text-align: right;\">\n",
       "      <th></th>\n",
       "      <th>housing</th>\n",
       "      <th>loan</th>\n",
       "      <th>default</th>\n",
       "      <th>age_1</th>\n",
       "      <th>age_2</th>\n",
       "      <th>age_3</th>\n",
       "      <th>marital_married</th>\n",
       "      <th>marital_single</th>\n",
       "      <th>job_blue-collar</th>\n",
       "      <th>job_entrepreneur</th>\n",
       "      <th>...</th>\n",
       "      <th>education_tertiary</th>\n",
       "      <th>contact_telephone</th>\n",
       "      <th>poutcome_other</th>\n",
       "      <th>poutcome_success</th>\n",
       "      <th>balance_log</th>\n",
       "      <th>pdays_log</th>\n",
       "      <th>duration_log</th>\n",
       "      <th>campaign_log</th>\n",
       "      <th>previous_log</th>\n",
       "      <th>y</th>\n",
       "    </tr>\n",
       "  </thead>\n",
       "  <tbody>\n",
       "    <tr>\n",
       "      <th>0</th>\n",
       "      <td>1</td>\n",
       "      <td>1</td>\n",
       "      <td>0</td>\n",
       "      <td>0</td>\n",
       "      <td>1</td>\n",
       "      <td>0</td>\n",
       "      <td>0</td>\n",
       "      <td>0</td>\n",
       "      <td>0</td>\n",
       "      <td>0</td>\n",
       "      <td>...</td>\n",
       "      <td>0</td>\n",
       "      <td>0</td>\n",
       "      <td>1</td>\n",
       "      <td>0</td>\n",
       "      <td>-0.645275</td>\n",
       "      <td>0.45035</td>\n",
       "      <td>-1.728912</td>\n",
       "      <td>4.961712</td>\n",
       "      <td>-0.420772</td>\n",
       "      <td>0</td>\n",
       "    </tr>\n",
       "    <tr>\n",
       "      <th>1</th>\n",
       "      <td>1</td>\n",
       "      <td>0</td>\n",
       "      <td>0</td>\n",
       "      <td>0</td>\n",
       "      <td>1</td>\n",
       "      <td>0</td>\n",
       "      <td>1</td>\n",
       "      <td>0</td>\n",
       "      <td>0</td>\n",
       "      <td>0</td>\n",
       "      <td>...</td>\n",
       "      <td>1</td>\n",
       "      <td>1</td>\n",
       "      <td>0</td>\n",
       "      <td>0</td>\n",
       "      <td>-0.538652</td>\n",
       "      <td>0.45035</td>\n",
       "      <td>0.762074</td>\n",
       "      <td>-0.173538</td>\n",
       "      <td>-0.420772</td>\n",
       "      <td>0</td>\n",
       "    </tr>\n",
       "    <tr>\n",
       "      <th>2</th>\n",
       "      <td>1</td>\n",
       "      <td>0</td>\n",
       "      <td>0</td>\n",
       "      <td>0</td>\n",
       "      <td>1</td>\n",
       "      <td>0</td>\n",
       "      <td>1</td>\n",
       "      <td>0</td>\n",
       "      <td>0</td>\n",
       "      <td>0</td>\n",
       "      <td>...</td>\n",
       "      <td>0</td>\n",
       "      <td>0</td>\n",
       "      <td>1</td>\n",
       "      <td>0</td>\n",
       "      <td>-0.369329</td>\n",
       "      <td>0.45035</td>\n",
       "      <td>-0.972209</td>\n",
       "      <td>2.939376</td>\n",
       "      <td>-0.420772</td>\n",
       "      <td>0</td>\n",
       "    </tr>\n",
       "    <tr>\n",
       "      <th>3</th>\n",
       "      <td>1</td>\n",
       "      <td>0</td>\n",
       "      <td>0</td>\n",
       "      <td>1</td>\n",
       "      <td>0</td>\n",
       "      <td>0</td>\n",
       "      <td>0</td>\n",
       "      <td>0</td>\n",
       "      <td>0</td>\n",
       "      <td>0</td>\n",
       "      <td>...</td>\n",
       "      <td>0</td>\n",
       "      <td>0</td>\n",
       "      <td>1</td>\n",
       "      <td>0</td>\n",
       "      <td>-0.077591</td>\n",
       "      <td>0.45035</td>\n",
       "      <td>-1.019112</td>\n",
       "      <td>-0.802554</td>\n",
       "      <td>-0.420772</td>\n",
       "      <td>0</td>\n",
       "    </tr>\n",
       "    <tr>\n",
       "      <th>4</th>\n",
       "      <td>0</td>\n",
       "      <td>0</td>\n",
       "      <td>0</td>\n",
       "      <td>0</td>\n",
       "      <td>0</td>\n",
       "      <td>0</td>\n",
       "      <td>0</td>\n",
       "      <td>1</td>\n",
       "      <td>0</td>\n",
       "      <td>0</td>\n",
       "      <td>...</td>\n",
       "      <td>1</td>\n",
       "      <td>0</td>\n",
       "      <td>1</td>\n",
       "      <td>0</td>\n",
       "      <td>-0.393144</td>\n",
       "      <td>0.45035</td>\n",
       "      <td>0.429922</td>\n",
       "      <td>-0.173538</td>\n",
       "      <td>-0.420772</td>\n",
       "      <td>1</td>\n",
       "    </tr>\n",
       "  </tbody>\n",
       "</table>\n",
       "<p>5 rows × 29 columns</p>\n",
       "</div>"
      ],
      "text/plain": [
       "   housing  loan  default  age_1  age_2  age_3  marital_married  \\\n",
       "0        1     1        0      0      1      0                0   \n",
       "1        1     0        0      0      1      0                1   \n",
       "2        1     0        0      0      1      0                1   \n",
       "3        1     0        0      1      0      0                0   \n",
       "4        0     0        0      0      0      0                0   \n",
       "\n",
       "   marital_single  job_blue-collar  job_entrepreneur  ...  education_tertiary  \\\n",
       "0               0                0                 0  ...                   0   \n",
       "1               0                0                 0  ...                   1   \n",
       "2               0                0                 0  ...                   0   \n",
       "3               0                0                 0  ...                   0   \n",
       "4               1                0                 0  ...                   1   \n",
       "\n",
       "   contact_telephone  poutcome_other  poutcome_success  balance_log  \\\n",
       "0                  0               1                 0    -0.645275   \n",
       "1                  1               0                 0    -0.538652   \n",
       "2                  0               1                 0    -0.369329   \n",
       "3                  0               1                 0    -0.077591   \n",
       "4                  0               1                 0    -0.393144   \n",
       "\n",
       "   pdays_log  duration_log  campaign_log  previous_log  y  \n",
       "0    0.45035     -1.728912      4.961712     -0.420772  0  \n",
       "1    0.45035      0.762074     -0.173538     -0.420772  0  \n",
       "2    0.45035     -0.972209      2.939376     -0.420772  0  \n",
       "3    0.45035     -1.019112     -0.802554     -0.420772  0  \n",
       "4    0.45035      0.429922     -0.173538     -0.420772  1  \n",
       "\n",
       "[5 rows x 29 columns]"
      ]
     },
     "execution_count": 6,
     "metadata": {},
     "output_type": "execute_result"
    }
   ],
   "source": [
    "train_data.head()"
   ]
  },
  {
   "cell_type": "code",
   "execution_count": 7,
   "id": "213341d8",
   "metadata": {},
   "outputs": [
    {
     "data": {
      "text/html": [
       "<div>\n",
       "<style scoped>\n",
       "    .dataframe tbody tr th:only-of-type {\n",
       "        vertical-align: middle;\n",
       "    }\n",
       "\n",
       "    .dataframe tbody tr th {\n",
       "        vertical-align: top;\n",
       "    }\n",
       "\n",
       "    .dataframe thead th {\n",
       "        text-align: right;\n",
       "    }\n",
       "</style>\n",
       "<table border=\"1\" class=\"dataframe\">\n",
       "  <thead>\n",
       "    <tr style=\"text-align: right;\">\n",
       "      <th></th>\n",
       "      <th>housing</th>\n",
       "      <th>loan</th>\n",
       "      <th>default</th>\n",
       "      <th>age_1</th>\n",
       "      <th>age_2</th>\n",
       "      <th>age_3</th>\n",
       "      <th>marital_married</th>\n",
       "      <th>marital_single</th>\n",
       "      <th>job_blue-collar</th>\n",
       "      <th>job_entrepreneur</th>\n",
       "      <th>...</th>\n",
       "      <th>education_tertiary</th>\n",
       "      <th>contact_telephone</th>\n",
       "      <th>poutcome_other</th>\n",
       "      <th>poutcome_success</th>\n",
       "      <th>balance_log</th>\n",
       "      <th>pdays_log</th>\n",
       "      <th>duration_log</th>\n",
       "      <th>campaign_log</th>\n",
       "      <th>previous_log</th>\n",
       "      <th>y</th>\n",
       "    </tr>\n",
       "  </thead>\n",
       "  <tbody>\n",
       "    <tr>\n",
       "      <th>0</th>\n",
       "      <td>1</td>\n",
       "      <td>0</td>\n",
       "      <td>0</td>\n",
       "      <td>0</td>\n",
       "      <td>1</td>\n",
       "      <td>0</td>\n",
       "      <td>1</td>\n",
       "      <td>0</td>\n",
       "      <td>0</td>\n",
       "      <td>0</td>\n",
       "      <td>...</td>\n",
       "      <td>1</td>\n",
       "      <td>1</td>\n",
       "      <td>0</td>\n",
       "      <td>0</td>\n",
       "      <td>-0.353943</td>\n",
       "      <td>0.46161</td>\n",
       "      <td>0.033731</td>\n",
       "      <td>-0.811596</td>\n",
       "      <td>-0.435061</td>\n",
       "      <td>0</td>\n",
       "    </tr>\n",
       "    <tr>\n",
       "      <th>1</th>\n",
       "      <td>0</td>\n",
       "      <td>0</td>\n",
       "      <td>0</td>\n",
       "      <td>1</td>\n",
       "      <td>0</td>\n",
       "      <td>0</td>\n",
       "      <td>0</td>\n",
       "      <td>1</td>\n",
       "      <td>0</td>\n",
       "      <td>0</td>\n",
       "      <td>...</td>\n",
       "      <td>1</td>\n",
       "      <td>0</td>\n",
       "      <td>0</td>\n",
       "      <td>0</td>\n",
       "      <td>3.367438</td>\n",
       "      <td>0.46161</td>\n",
       "      <td>-0.425208</td>\n",
       "      <td>-0.170094</td>\n",
       "      <td>-0.435061</td>\n",
       "      <td>0</td>\n",
       "    </tr>\n",
       "    <tr>\n",
       "      <th>2</th>\n",
       "      <td>1</td>\n",
       "      <td>0</td>\n",
       "      <td>0</td>\n",
       "      <td>0</td>\n",
       "      <td>1</td>\n",
       "      <td>0</td>\n",
       "      <td>1</td>\n",
       "      <td>0</td>\n",
       "      <td>1</td>\n",
       "      <td>0</td>\n",
       "      <td>...</td>\n",
       "      <td>0</td>\n",
       "      <td>0</td>\n",
       "      <td>0</td>\n",
       "      <td>0</td>\n",
       "      <td>-0.112356</td>\n",
       "      <td>0.46161</td>\n",
       "      <td>-0.002151</td>\n",
       "      <td>-0.811596</td>\n",
       "      <td>-0.435061</td>\n",
       "      <td>0</td>\n",
       "    </tr>\n",
       "    <tr>\n",
       "      <th>3</th>\n",
       "      <td>0</td>\n",
       "      <td>0</td>\n",
       "      <td>0</td>\n",
       "      <td>0</td>\n",
       "      <td>0</td>\n",
       "      <td>1</td>\n",
       "      <td>1</td>\n",
       "      <td>0</td>\n",
       "      <td>1</td>\n",
       "      <td>0</td>\n",
       "      <td>...</td>\n",
       "      <td>0</td>\n",
       "      <td>1</td>\n",
       "      <td>0</td>\n",
       "      <td>0</td>\n",
       "      <td>0.064959</td>\n",
       "      <td>0.46161</td>\n",
       "      <td>-1.512344</td>\n",
       "      <td>0.322148</td>\n",
       "      <td>-0.435061</td>\n",
       "      <td>0</td>\n",
       "    </tr>\n",
       "    <tr>\n",
       "      <th>4</th>\n",
       "      <td>0</td>\n",
       "      <td>0</td>\n",
       "      <td>0</td>\n",
       "      <td>1</td>\n",
       "      <td>0</td>\n",
       "      <td>0</td>\n",
       "      <td>0</td>\n",
       "      <td>1</td>\n",
       "      <td>0</td>\n",
       "      <td>0</td>\n",
       "      <td>...</td>\n",
       "      <td>1</td>\n",
       "      <td>0</td>\n",
       "      <td>1</td>\n",
       "      <td>0</td>\n",
       "      <td>1.839344</td>\n",
       "      <td>0.46161</td>\n",
       "      <td>2.413680</td>\n",
       "      <td>-0.170094</td>\n",
       "      <td>-0.435061</td>\n",
       "      <td>1</td>\n",
       "    </tr>\n",
       "  </tbody>\n",
       "</table>\n",
       "<p>5 rows × 29 columns</p>\n",
       "</div>"
      ],
      "text/plain": [
       "   housing  loan  default  age_1  age_2  age_3  marital_married  \\\n",
       "0        1     0        0      0      1      0                1   \n",
       "1        0     0        0      1      0      0                0   \n",
       "2        1     0        0      0      1      0                1   \n",
       "3        0     0        0      0      0      1                1   \n",
       "4        0     0        0      1      0      0                0   \n",
       "\n",
       "   marital_single  job_blue-collar  job_entrepreneur  ...  education_tertiary  \\\n",
       "0               0                0                 0  ...                   1   \n",
       "1               1                0                 0  ...                   1   \n",
       "2               0                1                 0  ...                   0   \n",
       "3               0                1                 0  ...                   0   \n",
       "4               1                0                 0  ...                   1   \n",
       "\n",
       "   contact_telephone  poutcome_other  poutcome_success  balance_log  \\\n",
       "0                  1               0                 0    -0.353943   \n",
       "1                  0               0                 0     3.367438   \n",
       "2                  0               0                 0    -0.112356   \n",
       "3                  1               0                 0     0.064959   \n",
       "4                  0               1                 0     1.839344   \n",
       "\n",
       "   pdays_log  duration_log  campaign_log  previous_log  y  \n",
       "0    0.46161      0.033731     -0.811596     -0.435061  0  \n",
       "1    0.46161     -0.425208     -0.170094     -0.435061  0  \n",
       "2    0.46161     -0.002151     -0.811596     -0.435061  0  \n",
       "3    0.46161     -1.512344      0.322148     -0.435061  0  \n",
       "4    0.46161      2.413680     -0.170094     -0.435061  1  \n",
       "\n",
       "[5 rows x 29 columns]"
      ]
     },
     "execution_count": 7,
     "metadata": {},
     "output_type": "execute_result"
    }
   ],
   "source": [
    "test_data.head()"
   ]
  },
  {
   "cell_type": "code",
   "execution_count": 8,
   "id": "0cf65500",
   "metadata": {},
   "outputs": [],
   "source": [
    "# Creating X,Y test and train data\n",
    "x_train = train_data[train_data.columns[:-1]]\n",
    "y_train = train_data[train_data.columns[-1]]\n",
    "x_test = test_data[test_data.columns[:-1]]\n",
    "y_test = test_data[test_data.columns[-1]]"
   ]
  },
  {
   "cell_type": "markdown",
   "id": "b5070f56",
   "metadata": {},
   "source": [
    "### Creating individual base classifiers"
   ]
  },
  {
   "cell_type": "code",
   "execution_count": 46,
   "id": "bcbcd49b",
   "metadata": {},
   "outputs": [],
   "source": [
    "random_forest = RandomForestClassifier(n_estimators=25, random_state=1)\n",
    "logistic_regression = LogisticRegression(C = 0.1, max_iter = 200, penalty = 'l1', solver = 'liblinear')\n",
    "naive_bayes = GaussianNB()\n"
   ]
  },
  {
   "cell_type": "markdown",
   "id": "600950f8",
   "metadata": {},
   "source": [
    "## 1. Ensemble Method - Gradient Boosting for Classification\n",
    "#### Gradient Boosting is a powerful ensemble machine learning technique used for both classification and regression tasks. It is a sequential, additive modeling technique that builds an ensemble of weak learners (usually decision trees) to create a strong predictive model. Gradient Boosting is known for its high predictive accuracy and flexibility."
   ]
  },
  {
   "cell_type": "code",
   "execution_count": 22,
   "id": "d08e46f4",
   "metadata": {},
   "outputs": [
    {
     "name": "stdout",
     "output_type": "stream",
     "text": [
      "Testing accuracy:  0.7651221939621807\n"
     ]
    }
   ],
   "source": [
    "clf = GradientBoostingClassifier().fit(x_train, y_train)\n",
    "print ('Testing accuracy: ',clf.score(x_test, y_test))"
   ]
  },
  {
   "cell_type": "markdown",
   "id": "b6106177",
   "metadata": {},
   "source": [
    "### Hyperparameter Tunning for GradientBoostingClassifier"
   ]
  },
  {
   "cell_type": "code",
   "execution_count": 21,
   "id": "91c38a74",
   "metadata": {},
   "outputs": [
    {
     "name": "stdout",
     "output_type": "stream",
     "text": [
      "Best Model Accuracy: 0.81\n",
      "Best Hyperparameters:\n",
      "{'n_estimators': 200, 'min_samples_split': 4, 'min_samples_leaf': 2, 'max_depth': 6, 'learning_rate': 0.01}\n"
     ]
    }
   ],
   "source": [
    "model = GradientBoostingClassifier(random_state=42)\n",
    "# Define a smaller search space for hyperparameters\n",
    "param_dist = {\n",
    "    'n_estimators': [100, 200, 300],\n",
    "    'learning_rate': [0.01],\n",
    "    'max_depth': [4,5,6],\n",
    "    'min_samples_split': [2, 3, 4],\n",
    "    'min_samples_leaf': [1, 2, 3]\n",
    "}\n",
    "\n",
    "# Use RandomizedSearchCV to search through a subset of the hyperparameter space\n",
    "random_search = RandomizedSearchCV(estimator=model, param_distributions=param_dist, n_iter=10,\n",
    "                                   scoring='accuracy', cv=5, random_state=42, n_jobs=-1)\n",
    "\n",
    "# Fit the randomized search to your data\n",
    "random_search.fit(x_train, y_train)\n",
    "\n",
    "# Get the best model and its hyperparameters\n",
    "best_model = random_search.best_estimator_\n",
    "best_params = random_search.best_params_\n",
    "\n",
    "# Evaluate the best model on the test set\n",
    "y_pred = best_model.predict(x_test)\n",
    "accuracy = accuracy_score(y_test, y_pred)\n",
    "print(f'Best Model Accuracy: {accuracy:.2f}')\n",
    "\n",
    "# Print the best hyperparameters\n",
    "print('Best Hyperparameters:')\n",
    "print(best_params)"
   ]
  },
  {
   "cell_type": "markdown",
   "id": "88f71865",
   "metadata": {},
   "source": [
    "### Training Performance"
   ]
  },
  {
   "cell_type": "code",
   "execution_count": 41,
   "id": "de3b77f1",
   "metadata": {},
   "outputs": [],
   "source": [
    "model = GradientBoostingClassifier(n_estimators = 200, min_samples_split = 4, min_samples_leaf = 2, max_depth = 6, learning_rate = 0.01)\n",
    "model.fit(x_train, y_train)\n",
    "y_pred = model.predict(x_test)"
   ]
  },
  {
   "cell_type": "code",
   "execution_count": 43,
   "id": "8ae7e3c9",
   "metadata": {},
   "outputs": [
    {
     "name": "stdout",
     "output_type": "stream",
     "text": [
      "[0.81 0.85 0.87 0.86 0.87 0.87 0.87 0.86 0.87 0.87]\n",
      "Ten-fold Cross Validation Score= 0.8598\n"
     ]
    }
   ],
   "source": [
    "### Import cross_val_score for cross_validation\n",
    "from sklearn.model_selection import cross_val_score\n",
    " \n",
    "np.set_printoptions(formatter={'float': lambda x: \"{0:0.2f}\".format(x)})\n",
    " \n",
    "cv_score = cross_val_score(model, x_train, y_train, cv=10, scoring = 'accuracy')\n",
    "print(cv_score)\n",
    "print (\"Ten-fold Cross Validation Score=\", \"%.4f\" % np.mean(cv_score)) \n",
    "#average of 10 iterations"
   ]
  },
  {
   "cell_type": "markdown",
   "id": "6a8d4a60",
   "metadata": {},
   "source": [
    "### Testing Performance"
   ]
  },
  {
   "cell_type": "code",
   "execution_count": 44,
   "id": "42773df9",
   "metadata": {},
   "outputs": [
    {
     "name": "stdout",
     "output_type": "stream",
     "text": [
      "Testing Accuracy: 0.8053743226805263\n",
      "Confusion Matrix:\n",
      " [[6414 1571]\n",
      " [ 189  869]]\n",
      "Classification Report:\n",
      "               precision    recall  f1-score   support\n",
      "\n",
      "           0       0.97      0.80      0.88      7985\n",
      "           1       0.36      0.82      0.50      1058\n",
      "\n",
      "    accuracy                           0.81      9043\n",
      "   macro avg       0.66      0.81      0.69      9043\n",
      "weighted avg       0.90      0.81      0.83      9043\n",
      "\n"
     ]
    },
    {
     "data": {
      "image/png": "[encoded data removed]",
      "text/plain": [
       "<Figure size 432x288 with 2 Axes>"
      ]
     },
     "metadata": {
      "needs_background": "light"
     },
     "output_type": "display_data"
    }
   ],
   "source": [
    "accuracy = accuracy_score(y_test, y_pred)\n",
    "confusion = metrics.confusion_matrix(y_test, y_pred)\n",
    "classification_rep = classification_report(y_test, y_pred)\n",
    "print(\"Testing Accuracy:\", accuracy)\n",
    "print(\"Confusion Matrix:\\n\", confusion)\n",
    "print(\"Classification Report:\\n\", classification_rep)\n",
    "cm_display = metrics.ConfusionMatrixDisplay(confusion_matrix = confusion_matrix, display_labels = [False, True])\n",
    "cm_display.plot()\n",
    "plt.show()"
   ]
  },
  {
   "cell_type": "markdown",
   "id": "0481572d",
   "metadata": {},
   "source": [
    "## 2. Ensemble Method - AdaBoost\n",
    "### AdaBoost (Adaptive Boosting) is an ensemble learning technique that combines multiple weak classifiers to create a strong classifier. "
   ]
  },
  {
   "cell_type": "markdown",
   "id": "56d9632d",
   "metadata": {},
   "source": [
    "### Model Performance"
   ]
  },
  {
   "cell_type": "code",
   "execution_count": 50,
   "id": "82b427d3",
   "metadata": {},
   "outputs": [
    {
     "name": "stdout",
     "output_type": "stream",
     "text": [
      "Training accuracy: 0.890 (+/- 0.0048) Testing accuracy: 0.854 [random_forest]\n",
      "Training accuracy: 0.883 (+/- 0.0002) Testing accuracy: 0.883 [logistic_regression]\n",
      "Training accuracy: 0.410 (+/- 0.1613) Testing accuracy: 0.820 [naive_bayes]\n"
     ]
    }
   ],
   "source": [
    "for clf, label in zip([random_forest, logistic_regression, naive_bayes], ['random_forest', 'logistic_regression', 'naive_bayes']):\n",
    "    adaboost_classifier = AdaBoostClassifier(clf,algorithm='SAMME.R')\n",
    "    adaboost_classifier.fit(x_train, y_train)\n",
    "    y_pred = adaboost_classifier.predict(x_test)\n",
    "    accuracy = accuracy_score(y_test, y_pred)\n",
    "    scores = cross_val_score(adaboost_classifier, x_test, y_test,error_score='raise', scoring='accuracy')\n",
    "    print(\"Training accuracy: %0.3f (+/- %0.4f) Testing accuracy: %0.3f [%s]\" % (scores.mean(), scores.std(),accuracy, label))"
   ]
  },
  {
   "cell_type": "markdown",
   "id": "142c6d22",
   "metadata": {},
   "source": [
    "## 3. Ensemble Method - Hard voting classifier"
   ]
  },
  {
   "cell_type": "code",
   "execution_count": 52,
   "id": "8812c1aa",
   "metadata": {},
   "outputs": [],
   "source": [
    "# Soft voting classifier\n",
    "ensemble_classifier = VotingClassifier(estimators=[\n",
    "    ('random_forest', random_forest),\n",
    "    ('logistic_regression', logistic_regression),\n",
    "    ('naive_bayes',naive_bayes )\n",
    "], voting='hard')"
   ]
  },
  {
   "cell_type": "code",
   "execution_count": 53,
   "id": "c8ee8258",
   "metadata": {},
   "outputs": [],
   "source": [
    "ensemble_classifier = ensemble_classifier.fit(x_train, y_train)"
   ]
  },
  {
   "cell_type": "markdown",
   "id": "9e558b37",
   "metadata": {},
   "source": [
    "### Model Performance"
   ]
  },
  {
   "cell_type": "code",
   "execution_count": 54,
   "id": "8c116eff",
   "metadata": {},
   "outputs": [
    {
     "name": "stdout",
     "output_type": "stream",
     "text": [
      "Training accuracy: 0.921 (+/- 0.0248) [random_forest]\n",
      "Training accuracy: 0.836 (+/- 0.0229) [logistic_regression]\n",
      "Training accuracy: 0.716 (+/- 0.0274) [naive_bayes]\n",
      "Training accuracy: 0.872 (+/- 0.0258) [ensemble_classifier]\n",
      "Testing accuracy: 0.815 [Ensemble Classifier]\n"
     ]
    }
   ],
   "source": [
    "for clf, label in zip([random_forest, logistic_regression, naive_bayes, ensemble_classifier], ['random_forest', 'logistic_regression', 'naive_bayes', 'ensemble_classifier']):\n",
    "    scores = cross_val_score(clf, x_train, y_train, cv=10, scoring='accuracy')\n",
    "    print(\"Training accuracy: %0.3f (+/- %0.4f) [%s]\" % (scores.mean(), scores.std(),label))\n",
    "y_pred = ensemble_classifier.predict(x_test)\n",
    "accuracy = metrics.accuracy_score(y_test, y_pred)\n",
    "print('Testing accuracy: %0.3f [Ensemble Classifier]'% accuracy)"
   ]
  },
  {
   "cell_type": "code",
   "execution_count": null,
   "id": "3b98762f",
   "metadata": {},
   "outputs": [],
   "source": [
    "### Import cross_val_score for cross_validation\n",
    "from sklearn.model_selection import cross_val_score\n",
    " \n",
    "np.set_printoptions(formatter={'float': lambda x: \"{0:0.2f}\".format(x)})\n",
    " \n",
    "cv_score = cross_val_score(ensemble_classifier, x_train, y_train, cv=10, scoring = 'accuracy')\n",
    "print(cv_score)\n",
    "print (\"Ten-fold Cross Validation Score=\", \"%.4f\" % np.mean(cv_score)) \n",
    "#average of 10 iterations"
   ]
  },
  {
   "cell_type": "code",
   "execution_count": null,
   "id": "89f11180",
   "metadata": {},
   "outputs": [],
   "source": [
    "accuracy = accuracy_score(y_test, y_pred)\n",
    "confusion = metrics.confusion_matrix(y_test, y_pred)\n",
    "classification_rep = classification_report(y_test, y_pred)\n",
    "print(\"Testing Accuracy:\", accuracy)\n",
    "print(\"Confusion Matrix:\\n\", confusion)\n",
    "print(\"Classification Report:\\n\", classification_rep)\n",
    "cm_display = metrics.ConfusionMatrixDisplay(confusion_matrix = confusion_matrix, display_labels = [False, True])\n",
    "cm_display.plot()\n",
    "plt.show()"
   ]
  }
 ],
 "metadata": {
  "kernelspec": {
   "display_name": "Python 3 (ipykernel)",
   "language": "python",
   "name": "python3"
  },
  "language_info": {
   "codemirror_mode": {
    "name": "ipython",
    "version": 3
   },
   "file_extension": ".py",
   "mimetype": "text/x-python",
   "name": "python",
   "nbconvert_exporter": "python",
   "pygments_lexer": "ipython3",
   "version": "3.9.12"
  }
 },
 "nbformat": 4,
 "nbformat_minor": 5
}
