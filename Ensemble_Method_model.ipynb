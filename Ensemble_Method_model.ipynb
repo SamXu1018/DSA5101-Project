{
 "cells": [
  {
   "cell_type": "code",
   "execution_count": 54,
   "id": "e85c99fe",
   "metadata": {},
   "outputs": [],
   "source": [
    "import pandas as pd\n",
    "import matplotlib.pyplot as plt\n",
    "import numpy as np"
   ]
  },
  {
   "cell_type": "code",
   "execution_count": 55,
   "id": "7f0c9178",
   "metadata": {},
   "outputs": [],
   "source": [
    "from sklearn.ensemble import RandomForestClassifier, VotingClassifier\n",
    "from sklearn.linear_model import LogisticRegression\n",
    "from sklearn.naive_bayes import GaussianNB\n",
    "from sklearn.model_selection import cross_val_score\n",
    "from sklearn.ensemble import AdaBoostClassifier\n",
    "from sklearn.ensemble import GradientBoostingClassifier\n",
    "from sklearn import svm"
   ]
  },
  {
   "cell_type": "markdown",
   "id": "3de93f7b",
   "metadata": {},
   "source": [
    "## Display Training & Test data (top & bottom five datasets)"
   ]
  },
  {
   "cell_type": "code",
   "execution_count": 56,
   "id": "9b58d17d",
   "metadata": {},
   "outputs": [],
   "source": [
    "#load the csv file\n",
    "train_data = pd.read_csv('train_data_after_preprocess.csv')\n",
    "test_data = pd.read_csv('test_data_after_preprocess.csv')"
   ]
  },
  {
   "cell_type": "code",
   "execution_count": 57,
   "id": "1a6bad30",
   "metadata": {},
   "outputs": [
    {
     "data": {
      "text/plain": [
       "(63874, 29)"
      ]
     },
     "execution_count": 57,
     "metadata": {},
     "output_type": "execute_result"
    }
   ],
   "source": [
    "train_data.shape"
   ]
  },
  {
   "cell_type": "code",
   "execution_count": 58,
   "id": "301f36f1",
   "metadata": {},
   "outputs": [
    {
     "data": {
      "text/plain": [
       "(9043, 29)"
      ]
     },
     "execution_count": 58,
     "metadata": {},
     "output_type": "execute_result"
    }
   ],
   "source": [
    "test_data.shape"
   ]
  },
  {
   "cell_type": "code",
   "execution_count": 59,
   "id": "cfb4ea88",
   "metadata": {},
   "outputs": [
    {
     "data": {
      "text/html": [
       "<div>\n",
       "<style scoped>\n",
       "    .dataframe tbody tr th:only-of-type {\n",
       "        vertical-align: middle;\n",
       "    }\n",
       "\n",
       "    .dataframe tbody tr th {\n",
       "        vertical-align: top;\n",
       "    }\n",
       "\n",
       "    .dataframe thead th {\n",
       "        text-align: right;\n",
       "    }\n",
       "</style>\n",
       "<table border=\"1\" class=\"dataframe\">\n",
       "  <thead>\n",
       "    <tr style=\"text-align: right;\">\n",
       "      <th></th>\n",
       "      <th>housing</th>\n",
       "      <th>loan</th>\n",
       "      <th>default</th>\n",
       "      <th>age_1</th>\n",
       "      <th>age_2</th>\n",
       "      <th>age_3</th>\n",
       "      <th>marital_married</th>\n",
       "      <th>marital_single</th>\n",
       "      <th>job_blue-collar</th>\n",
       "      <th>job_entrepreneur</th>\n",
       "      <th>...</th>\n",
       "      <th>education_tertiary</th>\n",
       "      <th>contact_telephone</th>\n",
       "      <th>poutcome_other</th>\n",
       "      <th>poutcome_success</th>\n",
       "      <th>balance_log</th>\n",
       "      <th>pdays_log</th>\n",
       "      <th>duration_log</th>\n",
       "      <th>campaign_log</th>\n",
       "      <th>previous_log</th>\n",
       "      <th>y</th>\n",
       "    </tr>\n",
       "  </thead>\n",
       "  <tbody>\n",
       "    <tr>\n",
       "      <th>0</th>\n",
       "      <td>1</td>\n",
       "      <td>1</td>\n",
       "      <td>0</td>\n",
       "      <td>0</td>\n",
       "      <td>1</td>\n",
       "      <td>0</td>\n",
       "      <td>0</td>\n",
       "      <td>0</td>\n",
       "      <td>0</td>\n",
       "      <td>0</td>\n",
       "      <td>...</td>\n",
       "      <td>0</td>\n",
       "      <td>0</td>\n",
       "      <td>1</td>\n",
       "      <td>0</td>\n",
       "      <td>-0.645275</td>\n",
       "      <td>0.45035</td>\n",
       "      <td>-1.728912</td>\n",
       "      <td>4.961712</td>\n",
       "      <td>-0.420772</td>\n",
       "      <td>0</td>\n",
       "    </tr>\n",
       "    <tr>\n",
       "      <th>1</th>\n",
       "      <td>1</td>\n",
       "      <td>0</td>\n",
       "      <td>0</td>\n",
       "      <td>0</td>\n",
       "      <td>1</td>\n",
       "      <td>0</td>\n",
       "      <td>1</td>\n",
       "      <td>0</td>\n",
       "      <td>0</td>\n",
       "      <td>0</td>\n",
       "      <td>...</td>\n",
       "      <td>1</td>\n",
       "      <td>1</td>\n",
       "      <td>0</td>\n",
       "      <td>0</td>\n",
       "      <td>-0.538652</td>\n",
       "      <td>0.45035</td>\n",
       "      <td>0.762074</td>\n",
       "      <td>-0.173538</td>\n",
       "      <td>-0.420772</td>\n",
       "      <td>0</td>\n",
       "    </tr>\n",
       "    <tr>\n",
       "      <th>2</th>\n",
       "      <td>1</td>\n",
       "      <td>0</td>\n",
       "      <td>0</td>\n",
       "      <td>0</td>\n",
       "      <td>1</td>\n",
       "      <td>0</td>\n",
       "      <td>1</td>\n",
       "      <td>0</td>\n",
       "      <td>0</td>\n",
       "      <td>0</td>\n",
       "      <td>...</td>\n",
       "      <td>0</td>\n",
       "      <td>0</td>\n",
       "      <td>1</td>\n",
       "      <td>0</td>\n",
       "      <td>-0.369329</td>\n",
       "      <td>0.45035</td>\n",
       "      <td>-0.972209</td>\n",
       "      <td>2.939376</td>\n",
       "      <td>-0.420772</td>\n",
       "      <td>0</td>\n",
       "    </tr>\n",
       "    <tr>\n",
       "      <th>3</th>\n",
       "      <td>1</td>\n",
       "      <td>0</td>\n",
       "      <td>0</td>\n",
       "      <td>1</td>\n",
       "      <td>0</td>\n",
       "      <td>0</td>\n",
       "      <td>0</td>\n",
       "      <td>0</td>\n",
       "      <td>0</td>\n",
       "      <td>0</td>\n",
       "      <td>...</td>\n",
       "      <td>0</td>\n",
       "      <td>0</td>\n",
       "      <td>1</td>\n",
       "      <td>0</td>\n",
       "      <td>-0.077591</td>\n",
       "      <td>0.45035</td>\n",
       "      <td>-1.019112</td>\n",
       "      <td>-0.802554</td>\n",
       "      <td>-0.420772</td>\n",
       "      <td>0</td>\n",
       "    </tr>\n",
       "    <tr>\n",
       "      <th>4</th>\n",
       "      <td>0</td>\n",
       "      <td>0</td>\n",
       "      <td>0</td>\n",
       "      <td>0</td>\n",
       "      <td>0</td>\n",
       "      <td>0</td>\n",
       "      <td>0</td>\n",
       "      <td>1</td>\n",
       "      <td>0</td>\n",
       "      <td>0</td>\n",
       "      <td>...</td>\n",
       "      <td>1</td>\n",
       "      <td>0</td>\n",
       "      <td>1</td>\n",
       "      <td>0</td>\n",
       "      <td>-0.393144</td>\n",
       "      <td>0.45035</td>\n",
       "      <td>0.429922</td>\n",
       "      <td>-0.173538</td>\n",
       "      <td>-0.420772</td>\n",
       "      <td>1</td>\n",
       "    </tr>\n",
       "  </tbody>\n",
       "</table>\n",
       "<p>5 rows × 29 columns</p>\n",
       "</div>"
      ],
      "text/plain": [
       "   housing  loan  default  age_1  age_2  age_3  marital_married  \\\n",
       "0        1     1        0      0      1      0                0   \n",
       "1        1     0        0      0      1      0                1   \n",
       "2        1     0        0      0      1      0                1   \n",
       "3        1     0        0      1      0      0                0   \n",
       "4        0     0        0      0      0      0                0   \n",
       "\n",
       "   marital_single  job_blue-collar  job_entrepreneur  ...  education_tertiary  \\\n",
       "0               0                0                 0  ...                   0   \n",
       "1               0                0                 0  ...                   1   \n",
       "2               0                0                 0  ...                   0   \n",
       "3               0                0                 0  ...                   0   \n",
       "4               1                0                 0  ...                   1   \n",
       "\n",
       "   contact_telephone  poutcome_other  poutcome_success  balance_log  \\\n",
       "0                  0               1                 0    -0.645275   \n",
       "1                  1               0                 0    -0.538652   \n",
       "2                  0               1                 0    -0.369329   \n",
       "3                  0               1                 0    -0.077591   \n",
       "4                  0               1                 0    -0.393144   \n",
       "\n",
       "   pdays_log  duration_log  campaign_log  previous_log  y  \n",
       "0    0.45035     -1.728912      4.961712     -0.420772  0  \n",
       "1    0.45035      0.762074     -0.173538     -0.420772  0  \n",
       "2    0.45035     -0.972209      2.939376     -0.420772  0  \n",
       "3    0.45035     -1.019112     -0.802554     -0.420772  0  \n",
       "4    0.45035      0.429922     -0.173538     -0.420772  1  \n",
       "\n",
       "[5 rows x 29 columns]"
      ]
     },
     "execution_count": 59,
     "metadata": {},
     "output_type": "execute_result"
    }
   ],
   "source": [
    "train_data.head()"
   ]
  },
  {
   "cell_type": "code",
   "execution_count": 60,
   "id": "213341d8",
   "metadata": {},
   "outputs": [
    {
     "data": {
      "text/html": [
       "<div>\n",
       "<style scoped>\n",
       "    .dataframe tbody tr th:only-of-type {\n",
       "        vertical-align: middle;\n",
       "    }\n",
       "\n",
       "    .dataframe tbody tr th {\n",
       "        vertical-align: top;\n",
       "    }\n",
       "\n",
       "    .dataframe thead th {\n",
       "        text-align: right;\n",
       "    }\n",
       "</style>\n",
       "<table border=\"1\" class=\"dataframe\">\n",
       "  <thead>\n",
       "    <tr style=\"text-align: right;\">\n",
       "      <th></th>\n",
       "      <th>housing</th>\n",
       "      <th>loan</th>\n",
       "      <th>default</th>\n",
       "      <th>age_1</th>\n",
       "      <th>age_2</th>\n",
       "      <th>age_3</th>\n",
       "      <th>marital_married</th>\n",
       "      <th>marital_single</th>\n",
       "      <th>job_blue-collar</th>\n",
       "      <th>job_entrepreneur</th>\n",
       "      <th>...</th>\n",
       "      <th>education_tertiary</th>\n",
       "      <th>contact_telephone</th>\n",
       "      <th>poutcome_other</th>\n",
       "      <th>poutcome_success</th>\n",
       "      <th>balance_log</th>\n",
       "      <th>pdays_log</th>\n",
       "      <th>duration_log</th>\n",
       "      <th>campaign_log</th>\n",
       "      <th>previous_log</th>\n",
       "      <th>y</th>\n",
       "    </tr>\n",
       "  </thead>\n",
       "  <tbody>\n",
       "    <tr>\n",
       "      <th>9038</th>\n",
       "      <td>1</td>\n",
       "      <td>1</td>\n",
       "      <td>0</td>\n",
       "      <td>0</td>\n",
       "      <td>0</td>\n",
       "      <td>0</td>\n",
       "      <td>0</td>\n",
       "      <td>1</td>\n",
       "      <td>0</td>\n",
       "      <td>0</td>\n",
       "      <td>...</td>\n",
       "      <td>0</td>\n",
       "      <td>0</td>\n",
       "      <td>0</td>\n",
       "      <td>0</td>\n",
       "      <td>-0.629341</td>\n",
       "      <td>0.461610</td>\n",
       "      <td>-0.283707</td>\n",
       "      <td>0.322148</td>\n",
       "      <td>-0.435061</td>\n",
       "      <td>0</td>\n",
       "    </tr>\n",
       "    <tr>\n",
       "      <th>9039</th>\n",
       "      <td>1</td>\n",
       "      <td>0</td>\n",
       "      <td>0</td>\n",
       "      <td>1</td>\n",
       "      <td>0</td>\n",
       "      <td>0</td>\n",
       "      <td>1</td>\n",
       "      <td>0</td>\n",
       "      <td>1</td>\n",
       "      <td>0</td>\n",
       "      <td>...</td>\n",
       "      <td>0</td>\n",
       "      <td>0</td>\n",
       "      <td>0</td>\n",
       "      <td>0</td>\n",
       "      <td>-0.524900</td>\n",
       "      <td>-1.259717</td>\n",
       "      <td>-1.136982</td>\n",
       "      <td>-0.170094</td>\n",
       "      <td>1.584341</td>\n",
       "      <td>0</td>\n",
       "    </tr>\n",
       "    <tr>\n",
       "      <th>9040</th>\n",
       "      <td>1</td>\n",
       "      <td>0</td>\n",
       "      <td>0</td>\n",
       "      <td>1</td>\n",
       "      <td>0</td>\n",
       "      <td>0</td>\n",
       "      <td>1</td>\n",
       "      <td>0</td>\n",
       "      <td>1</td>\n",
       "      <td>0</td>\n",
       "      <td>...</td>\n",
       "      <td>0</td>\n",
       "      <td>0</td>\n",
       "      <td>0</td>\n",
       "      <td>0</td>\n",
       "      <td>0.391482</td>\n",
       "      <td>0.461610</td>\n",
       "      <td>-0.113487</td>\n",
       "      <td>-0.811596</td>\n",
       "      <td>-0.435061</td>\n",
       "      <td>0</td>\n",
       "    </tr>\n",
       "    <tr>\n",
       "      <th>9041</th>\n",
       "      <td>1</td>\n",
       "      <td>0</td>\n",
       "      <td>0</td>\n",
       "      <td>1</td>\n",
       "      <td>0</td>\n",
       "      <td>0</td>\n",
       "      <td>0</td>\n",
       "      <td>1</td>\n",
       "      <td>0</td>\n",
       "      <td>0</td>\n",
       "      <td>...</td>\n",
       "      <td>0</td>\n",
       "      <td>0</td>\n",
       "      <td>1</td>\n",
       "      <td>0</td>\n",
       "      <td>-0.593074</td>\n",
       "      <td>0.461610</td>\n",
       "      <td>-0.168644</td>\n",
       "      <td>2.020132</td>\n",
       "      <td>-0.435061</td>\n",
       "      <td>0</td>\n",
       "    </tr>\n",
       "    <tr>\n",
       "      <th>9042</th>\n",
       "      <td>1</td>\n",
       "      <td>0</td>\n",
       "      <td>0</td>\n",
       "      <td>0</td>\n",
       "      <td>1</td>\n",
       "      <td>0</td>\n",
       "      <td>1</td>\n",
       "      <td>0</td>\n",
       "      <td>1</td>\n",
       "      <td>0</td>\n",
       "      <td>...</td>\n",
       "      <td>0</td>\n",
       "      <td>0</td>\n",
       "      <td>0</td>\n",
       "      <td>0</td>\n",
       "      <td>-0.599099</td>\n",
       "      <td>0.461610</td>\n",
       "      <td>2.528064</td>\n",
       "      <td>-0.811596</td>\n",
       "      <td>-0.435061</td>\n",
       "      <td>0</td>\n",
       "    </tr>\n",
       "  </tbody>\n",
       "</table>\n",
       "<p>5 rows × 29 columns</p>\n",
       "</div>"
      ],
      "text/plain": [
       "      housing  loan  default  age_1  age_2  age_3  marital_married  \\\n",
       "9038        1     1        0      0      0      0                0   \n",
       "9039        1     0        0      1      0      0                1   \n",
       "9040        1     0        0      1      0      0                1   \n",
       "9041        1     0        0      1      0      0                0   \n",
       "9042        1     0        0      0      1      0                1   \n",
       "\n",
       "      marital_single  job_blue-collar  job_entrepreneur  ...  \\\n",
       "9038               1                0                 0  ...   \n",
       "9039               0                1                 0  ...   \n",
       "9040               0                1                 0  ...   \n",
       "9041               1                0                 0  ...   \n",
       "9042               0                1                 0  ...   \n",
       "\n",
       "      education_tertiary  contact_telephone  poutcome_other  poutcome_success  \\\n",
       "9038                   0                  0               0                 0   \n",
       "9039                   0                  0               0                 0   \n",
       "9040                   0                  0               0                 0   \n",
       "9041                   0                  0               1                 0   \n",
       "9042                   0                  0               0                 0   \n",
       "\n",
       "      balance_log  pdays_log  duration_log  campaign_log  previous_log  y  \n",
       "9038    -0.629341   0.461610     -0.283707      0.322148     -0.435061  0  \n",
       "9039    -0.524900  -1.259717     -1.136982     -0.170094      1.584341  0  \n",
       "9040     0.391482   0.461610     -0.113487     -0.811596     -0.435061  0  \n",
       "9041    -0.593074   0.461610     -0.168644      2.020132     -0.435061  0  \n",
       "9042    -0.599099   0.461610      2.528064     -0.811596     -0.435061  0  \n",
       "\n",
       "[5 rows x 29 columns]"
      ]
     },
     "execution_count": 60,
     "metadata": {},
     "output_type": "execute_result"
    }
   ],
   "source": [
    "test_data.tail()"
   ]
  },
  {
   "cell_type": "code",
   "execution_count": 61,
   "id": "0cf65500",
   "metadata": {},
   "outputs": [],
   "source": [
    "# Creating X,Y test and train data\n",
    "x_train = train_data[train_data.columns[:-1]]\n",
    "y_train = train_data[train_data.columns[-1]]\n",
    "x_test = test_data[test_data.columns[:-1]]\n",
    "y_test = test_data[test_data.columns[-1]]"
   ]
  },
  {
   "cell_type": "markdown",
   "id": "b5070f56",
   "metadata": {},
   "source": [
    "### Creating individual base classifiers 这个到时你们把各个model的数值放进去"
   ]
  },
  {
   "cell_type": "code",
   "execution_count": 62,
   "id": "bcbcd49b",
   "metadata": {},
   "outputs": [],
   "source": [
    "random_forest = RandomForestClassifier()\n",
    "logistic_regression = LogisticRegression()\n",
    "support_vector_machine = svm.SVC()"
   ]
  },
  {
   "cell_type": "markdown",
   "id": "600950f8",
   "metadata": {},
   "source": [
    "## Ensemble Method - Gradient Boosting for Classification"
   ]
  },
  {
   "cell_type": "code",
   "execution_count": 63,
   "id": "d08e46f4",
   "metadata": {},
   "outputs": [
    {
     "name": "stdout",
     "output_type": "stream",
     "text": [
      "Accuracy:  0.7651221939621807\n"
     ]
    }
   ],
   "source": [
    "clf = GradientBoostingClassifier().fit(x_train, y_train)\n",
    "print ('Accuracy: ',clf.score(x_test, y_test))"
   ]
  },
  {
   "cell_type": "markdown",
   "id": "0481572d",
   "metadata": {},
   "source": [
    "## Ensemble Method - AdaBoost"
   ]
  },
  {
   "cell_type": "code",
   "execution_count": 64,
   "id": "82b427d3",
   "metadata": {},
   "outputs": [
    {
     "name": "stdout",
     "output_type": "stream",
     "text": [
      "Accuracy: 0.893 (+/- 0.0044) [random_forest]\n",
      "Accuracy: 0.879 (+/- 0.0015) [logistic_regression]\n",
      "Accuracy: 0.883 (+/- 0.0002) [support_vector_machine]\n"
     ]
    }
   ],
   "source": [
    "for clf, label in zip([random_forest, logistic_regression, support_vector_machine], ['random_forest', 'logistic_regression', 'support_vector_machine']):\n",
    "    adaboost_classifier = AdaBoostClassifier(clf,algorithm='SAMME')\n",
    "    scores = cross_val_score(adaboost_classifier, x_test, y_test,error_score='raise', scoring='accuracy')\n",
    "    print(\"Accuracy: %0.3f (+/- %0.4f) [%s]\" % (scores.mean(), scores.std(), label))"
   ]
  },
  {
   "cell_type": "markdown",
   "id": "142c6d22",
   "metadata": {},
   "source": [
    "## Ensemble Method - Hard voting classifier"
   ]
  },
  {
   "cell_type": "code",
   "execution_count": 65,
   "id": "8812c1aa",
   "metadata": {},
   "outputs": [],
   "source": [
    "# Soft voting classifier\n",
    "ensemble_classifier = VotingClassifier(estimators=[\n",
    "    ('random_forest', random_forest),\n",
    "    ('logistic_regression', logistic_regression),\n",
    "    ('Naive_Bayes',support_vector_machine )\n",
    "], voting='hard')"
   ]
  },
  {
   "cell_type": "code",
   "execution_count": 66,
   "id": "c8ee8258",
   "metadata": {},
   "outputs": [],
   "source": [
    "ensemble_classifier = ensemble_classifier.fit(x_train, y_train)"
   ]
  },
  {
   "cell_type": "code",
   "execution_count": 67,
   "id": "8c116eff",
   "metadata": {},
   "outputs": [
    {
     "name": "stdout",
     "output_type": "stream",
     "text": [
      "Accuracy: 0.890 (+/- 0.0044) [random_forest]\n",
      "Accuracy: 0.895 (+/- 0.0045) [logistic_regression]\n",
      "Accuracy: 0.894 (+/- 0.0029) [support_vector_machine]\n",
      "Accuracy: 0.895 (+/- 0.0029) [ensemble_classifier]\n"
     ]
    }
   ],
   "source": [
    "for clf, label in zip([random_forest, logistic_regression, Naive_Bayes, ensemble_classifier], ['random_forest', 'logistic_regression', 'support_vector_machine', 'ensemble_classifier']):\n",
    "    scores = cross_val_score(clf, x_test, y_test, cv=5, scoring='accuracy')\n",
    "    print(\"Accuracy: %0.3f (+/- %0.4f) [%s]\" % (scores.mean(), scores.std(), label))"
   ]
  },
  {
   "cell_type": "code",
   "execution_count": null,
   "id": "d7f60b4d",
   "metadata": {},
   "outputs": [],
   "source": []
  }
 ],
 "metadata": {
  "kernelspec": {
   "display_name": "Python 3 (ipykernel)",
   "language": "python",
   "name": "python3"
  },
  "language_info": {
   "codemirror_mode": {
    "name": "ipython",
    "version": 3
   },
   "file_extension": ".py",
   "mimetype": "text/x-python",
   "name": "python",
   "nbconvert_exporter": "python",
   "pygments_lexer": "ipython3",
   "version": "3.9.12"
  }
 },
 "nbformat": 4,
 "nbformat_minor": 5
}
