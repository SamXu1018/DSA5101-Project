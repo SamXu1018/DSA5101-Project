{
 "cells": [
  {
   "cell_type": "code",
   "execution_count": 39,
   "id": "e85c99fe",
   "metadata": {},
   "outputs": [],
   "source": [
    "import pandas as pd\n",
    "import matplotlib.pyplot as plt\n",
    "import numpy as np"
   ]
  },
  {
   "cell_type": "code",
   "execution_count": 40,
   "id": "7f0c9178",
   "metadata": {},
   "outputs": [],
   "source": [
    "from sklearn.ensemble import RandomForestClassifier, VotingClassifier\n",
    "from sklearn.linear_model import LogisticRegression\n",
    "from sklearn.naive_bayes import GaussianNB\n",
    "from sklearn.model_selection import cross_val_score, GridSearchCV\n",
    "from sklearn.ensemble import AdaBoostClassifier, GradientBoostingClassifier\n",
    "from sklearn.model_selection import RandomizedSearchCV\n",
    "from sklearn import svm\n",
    "from sklearn import metrics\n",
    "from sklearn.metrics import accuracy_score, confusion_matrix, classification_report\n",
    "from sklearn.neural_network import MLPClassifier\n",
    "from sklearn import tree"
   ]
  },
  {
   "cell_type": "markdown",
   "id": "3de93f7b",
   "metadata": {},
   "source": [
    "## Display Training & Test data (top & bottom five datasets)"
   ]
  },
  {
   "cell_type": "code",
   "execution_count": 41,
   "id": "9b58d17d",
   "metadata": {},
   "outputs": [],
   "source": [
    "#load the csv file\n",
    "train_data = pd.read_csv('train_data_preprocessed_v3.csv')\n",
    "test_data = pd.read_csv('test_data_preprocessed_v3.csv')"
   ]
  },
  {
   "cell_type": "code",
   "execution_count": 42,
   "id": "1a6bad30",
   "metadata": {},
   "outputs": [
    {
     "data": {
      "text/plain": [
       "(63874, 55)"
      ]
     },
     "execution_count": 42,
     "metadata": {},
     "output_type": "execute_result"
    }
   ],
   "source": [
    "train_data.shape"
   ]
  },
  {
   "cell_type": "code",
   "execution_count": 43,
   "id": "301f36f1",
   "metadata": {},
   "outputs": [
    {
     "data": {
      "text/plain": [
       "(9043, 55)"
      ]
     },
     "execution_count": 43,
     "metadata": {},
     "output_type": "execute_result"
    }
   ],
   "source": [
    "test_data.shape"
   ]
  },
  {
   "cell_type": "code",
   "execution_count": 44,
   "id": "cfb4ea88",
   "metadata": {},
   "outputs": [
    {
     "data": {
      "text/html": [
       "<div>\n",
       "<style scoped>\n",
       "    .dataframe tbody tr th:only-of-type {\n",
       "        vertical-align: middle;\n",
       "    }\n",
       "\n",
       "    .dataframe tbody tr th {\n",
       "        vertical-align: top;\n",
       "    }\n",
       "\n",
       "    .dataframe thead th {\n",
       "        text-align: right;\n",
       "    }\n",
       "</style>\n",
       "<table border=\"1\" class=\"dataframe\">\n",
       "  <thead>\n",
       "    <tr style=\"text-align: right;\">\n",
       "      <th></th>\n",
       "      <th>day</th>\n",
       "      <th>age</th>\n",
       "      <th>age_class_0</th>\n",
       "      <th>age_class_1</th>\n",
       "      <th>age_class_2</th>\n",
       "      <th>age_class_3</th>\n",
       "      <th>default_no</th>\n",
       "      <th>default_yes</th>\n",
       "      <th>month_apr</th>\n",
       "      <th>month_aug</th>\n",
       "      <th>...</th>\n",
       "      <th>poutcome_success</th>\n",
       "      <th>balance_log</th>\n",
       "      <th>pdays_log</th>\n",
       "      <th>duration_log</th>\n",
       "      <th>campaign_log</th>\n",
       "      <th>previous_log</th>\n",
       "      <th>c1</th>\n",
       "      <th>c2</th>\n",
       "      <th>c3</th>\n",
       "      <th>y</th>\n",
       "    </tr>\n",
       "  </thead>\n",
       "  <tbody>\n",
       "    <tr>\n",
       "      <th>0</th>\n",
       "      <td>29</td>\n",
       "      <td>42</td>\n",
       "      <td>0</td>\n",
       "      <td>0</td>\n",
       "      <td>1</td>\n",
       "      <td>0</td>\n",
       "      <td>1</td>\n",
       "      <td>0</td>\n",
       "      <td>0</td>\n",
       "      <td>0</td>\n",
       "      <td>...</td>\n",
       "      <td>0</td>\n",
       "      <td>-0.710220</td>\n",
       "      <td>0.556372</td>\n",
       "      <td>-1.832544</td>\n",
       "      <td>5.809419</td>\n",
       "      <td>-0.531878</td>\n",
       "      <td>0.087504</td>\n",
       "      <td>1.789912</td>\n",
       "      <td>-1.279360</td>\n",
       "      <td>1</td>\n",
       "    </tr>\n",
       "    <tr>\n",
       "      <th>1</th>\n",
       "      <td>15</td>\n",
       "      <td>50</td>\n",
       "      <td>0</td>\n",
       "      <td>0</td>\n",
       "      <td>1</td>\n",
       "      <td>0</td>\n",
       "      <td>1</td>\n",
       "      <td>0</td>\n",
       "      <td>0</td>\n",
       "      <td>0</td>\n",
       "      <td>...</td>\n",
       "      <td>0</td>\n",
       "      <td>-0.605846</td>\n",
       "      <td>0.556372</td>\n",
       "      <td>0.243524</td>\n",
       "      <td>-0.011872</td>\n",
       "      <td>-0.531878</td>\n",
       "      <td>0.840223</td>\n",
       "      <td>-0.015243</td>\n",
       "      <td>-0.665628</td>\n",
       "      <td>1</td>\n",
       "    </tr>\n",
       "    <tr>\n",
       "      <th>2</th>\n",
       "      <td>5</td>\n",
       "      <td>47</td>\n",
       "      <td>0</td>\n",
       "      <td>0</td>\n",
       "      <td>1</td>\n",
       "      <td>0</td>\n",
       "      <td>1</td>\n",
       "      <td>0</td>\n",
       "      <td>0</td>\n",
       "      <td>0</td>\n",
       "      <td>...</td>\n",
       "      <td>0</td>\n",
       "      <td>-0.440095</td>\n",
       "      <td>0.556372</td>\n",
       "      <td>-1.201884</td>\n",
       "      <td>3.516911</td>\n",
       "      <td>-0.531878</td>\n",
       "      <td>0.574884</td>\n",
       "      <td>-1.294733</td>\n",
       "      <td>-1.277750</td>\n",
       "      <td>1</td>\n",
       "    </tr>\n",
       "    <tr>\n",
       "      <th>3</th>\n",
       "      <td>16</td>\n",
       "      <td>39</td>\n",
       "      <td>0</td>\n",
       "      <td>1</td>\n",
       "      <td>0</td>\n",
       "      <td>0</td>\n",
       "      <td>1</td>\n",
       "      <td>0</td>\n",
       "      <td>0</td>\n",
       "      <td>0</td>\n",
       "      <td>...</td>\n",
       "      <td>0</td>\n",
       "      <td>-0.154512</td>\n",
       "      <td>0.556372</td>\n",
       "      <td>-1.240974</td>\n",
       "      <td>-0.724921</td>\n",
       "      <td>-0.531878</td>\n",
       "      <td>-0.177147</td>\n",
       "      <td>0.095431</td>\n",
       "      <td>-0.473078</td>\n",
       "      <td>1</td>\n",
       "    </tr>\n",
       "    <tr>\n",
       "      <th>4</th>\n",
       "      <td>30</td>\n",
       "      <td>30</td>\n",
       "      <td>1</td>\n",
       "      <td>0</td>\n",
       "      <td>0</td>\n",
       "      <td>0</td>\n",
       "      <td>1</td>\n",
       "      <td>0</td>\n",
       "      <td>1</td>\n",
       "      <td>0</td>\n",
       "      <td>...</td>\n",
       "      <td>0</td>\n",
       "      <td>-0.463407</td>\n",
       "      <td>0.556372</td>\n",
       "      <td>-0.033302</td>\n",
       "      <td>-0.011872</td>\n",
       "      <td>-0.531878</td>\n",
       "      <td>-1.022643</td>\n",
       "      <td>1.883206</td>\n",
       "      <td>-0.257505</td>\n",
       "      <td>0</td>\n",
       "    </tr>\n",
       "  </tbody>\n",
       "</table>\n",
       "<p>5 rows × 55 columns</p>\n",
       "</div>"
      ],
      "text/plain": [
       "   day  age  age_class_0  age_class_1  age_class_2  age_class_3  default_no  \\\n",
       "0   29   42            0            0            1            0           1   \n",
       "1   15   50            0            0            1            0           1   \n",
       "2    5   47            0            0            1            0           1   \n",
       "3   16   39            0            1            0            0           1   \n",
       "4   30   30            1            0            0            0           1   \n",
       "\n",
       "   default_yes  month_apr  month_aug  ...  poutcome_success  balance_log  \\\n",
       "0            0          0          0  ...                 0    -0.710220   \n",
       "1            0          0          0  ...                 0    -0.605846   \n",
       "2            0          0          0  ...                 0    -0.440095   \n",
       "3            0          0          0  ...                 0    -0.154512   \n",
       "4            0          1          0  ...                 0    -0.463407   \n",
       "\n",
       "   pdays_log  duration_log  campaign_log  previous_log        c1        c2  \\\n",
       "0   0.556372     -1.832544      5.809419     -0.531878  0.087504  1.789912   \n",
       "1   0.556372      0.243524     -0.011872     -0.531878  0.840223 -0.015243   \n",
       "2   0.556372     -1.201884      3.516911     -0.531878  0.574884 -1.294733   \n",
       "3   0.556372     -1.240974     -0.724921     -0.531878 -0.177147  0.095431   \n",
       "4   0.556372     -0.033302     -0.011872     -0.531878 -1.022643  1.883206   \n",
       "\n",
       "         c3  y  \n",
       "0 -1.279360  1  \n",
       "1 -0.665628  1  \n",
       "2 -1.277750  1  \n",
       "3 -0.473078  1  \n",
       "4 -0.257505  0  \n",
       "\n",
       "[5 rows x 55 columns]"
      ]
     },
     "execution_count": 44,
     "metadata": {},
     "output_type": "execute_result"
    }
   ],
   "source": [
    "train_data.head()"
   ]
  },
  {
   "cell_type": "code",
   "execution_count": 45,
   "id": "213341d8",
   "metadata": {},
   "outputs": [
    {
     "data": {
      "text/html": [
       "<div>\n",
       "<style scoped>\n",
       "    .dataframe tbody tr th:only-of-type {\n",
       "        vertical-align: middle;\n",
       "    }\n",
       "\n",
       "    .dataframe tbody tr th {\n",
       "        vertical-align: top;\n",
       "    }\n",
       "\n",
       "    .dataframe thead th {\n",
       "        text-align: right;\n",
       "    }\n",
       "</style>\n",
       "<table border=\"1\" class=\"dataframe\">\n",
       "  <thead>\n",
       "    <tr style=\"text-align: right;\">\n",
       "      <th></th>\n",
       "      <th>day</th>\n",
       "      <th>age</th>\n",
       "      <th>age_class_0</th>\n",
       "      <th>age_class_1</th>\n",
       "      <th>age_class_2</th>\n",
       "      <th>age_class_3</th>\n",
       "      <th>default_no</th>\n",
       "      <th>default_yes</th>\n",
       "      <th>month_apr</th>\n",
       "      <th>month_aug</th>\n",
       "      <th>...</th>\n",
       "      <th>poutcome_success</th>\n",
       "      <th>balance_log</th>\n",
       "      <th>pdays_log</th>\n",
       "      <th>duration_log</th>\n",
       "      <th>campaign_log</th>\n",
       "      <th>previous_log</th>\n",
       "      <th>c1</th>\n",
       "      <th>c2</th>\n",
       "      <th>c3</th>\n",
       "      <th>y</th>\n",
       "    </tr>\n",
       "  </thead>\n",
       "  <tbody>\n",
       "    <tr>\n",
       "      <th>0</th>\n",
       "      <td>14</td>\n",
       "      <td>48</td>\n",
       "      <td>0</td>\n",
       "      <td>0</td>\n",
       "      <td>1</td>\n",
       "      <td>0</td>\n",
       "      <td>1</td>\n",
       "      <td>0</td>\n",
       "      <td>0</td>\n",
       "      <td>0</td>\n",
       "      <td>...</td>\n",
       "      <td>0</td>\n",
       "      <td>-0.353943</td>\n",
       "      <td>0.46161</td>\n",
       "      <td>0.033731</td>\n",
       "      <td>-0.811596</td>\n",
       "      <td>-0.435061</td>\n",
       "      <td>0.669934</td>\n",
       "      <td>-0.213638</td>\n",
       "      <td>-0.403107</td>\n",
       "      <td>1</td>\n",
       "    </tr>\n",
       "    <tr>\n",
       "      <th>1</th>\n",
       "      <td>22</td>\n",
       "      <td>31</td>\n",
       "      <td>0</td>\n",
       "      <td>1</td>\n",
       "      <td>0</td>\n",
       "      <td>0</td>\n",
       "      <td>1</td>\n",
       "      <td>0</td>\n",
       "      <td>0</td>\n",
       "      <td>1</td>\n",
       "      <td>...</td>\n",
       "      <td>0</td>\n",
       "      <td>3.367438</td>\n",
       "      <td>0.46161</td>\n",
       "      <td>-0.425208</td>\n",
       "      <td>-0.170094</td>\n",
       "      <td>-0.435061</td>\n",
       "      <td>-0.939981</td>\n",
       "      <td>0.705061</td>\n",
       "      <td>-0.159961</td>\n",
       "      <td>1</td>\n",
       "    </tr>\n",
       "    <tr>\n",
       "      <th>2</th>\n",
       "      <td>9</td>\n",
       "      <td>45</td>\n",
       "      <td>0</td>\n",
       "      <td>0</td>\n",
       "      <td>1</td>\n",
       "      <td>0</td>\n",
       "      <td>1</td>\n",
       "      <td>0</td>\n",
       "      <td>0</td>\n",
       "      <td>0</td>\n",
       "      <td>...</td>\n",
       "      <td>0</td>\n",
       "      <td>-0.112356</td>\n",
       "      <td>0.46161</td>\n",
       "      <td>-0.002151</td>\n",
       "      <td>-0.811596</td>\n",
       "      <td>-0.435061</td>\n",
       "      <td>0.399123</td>\n",
       "      <td>-0.819273</td>\n",
       "      <td>-0.508545</td>\n",
       "      <td>1</td>\n",
       "    </tr>\n",
       "    <tr>\n",
       "      <th>3</th>\n",
       "      <td>20</td>\n",
       "      <td>58</td>\n",
       "      <td>0</td>\n",
       "      <td>0</td>\n",
       "      <td>0</td>\n",
       "      <td>1</td>\n",
       "      <td>1</td>\n",
       "      <td>0</td>\n",
       "      <td>0</td>\n",
       "      <td>0</td>\n",
       "      <td>...</td>\n",
       "      <td>0</td>\n",
       "      <td>0.064959</td>\n",
       "      <td>0.46161</td>\n",
       "      <td>-1.512344</td>\n",
       "      <td>0.322148</td>\n",
       "      <td>-0.435061</td>\n",
       "      <td>1.600722</td>\n",
       "      <td>0.529756</td>\n",
       "      <td>-0.483361</td>\n",
       "      <td>1</td>\n",
       "    </tr>\n",
       "    <tr>\n",
       "      <th>4</th>\n",
       "      <td>21</td>\n",
       "      <td>35</td>\n",
       "      <td>0</td>\n",
       "      <td>1</td>\n",
       "      <td>0</td>\n",
       "      <td>0</td>\n",
       "      <td>1</td>\n",
       "      <td>0</td>\n",
       "      <td>0</td>\n",
       "      <td>0</td>\n",
       "      <td>...</td>\n",
       "      <td>0</td>\n",
       "      <td>1.839344</td>\n",
       "      <td>0.46161</td>\n",
       "      <td>2.413680</td>\n",
       "      <td>-0.170094</td>\n",
       "      <td>-0.435061</td>\n",
       "      <td>-0.565282</td>\n",
       "      <td>0.593416</td>\n",
       "      <td>-0.191371</td>\n",
       "      <td>0</td>\n",
       "    </tr>\n",
       "  </tbody>\n",
       "</table>\n",
       "<p>5 rows × 55 columns</p>\n",
       "</div>"
      ],
      "text/plain": [
       "   day  age  age_class_0  age_class_1  age_class_2  age_class_3  default_no  \\\n",
       "0   14   48            0            0            1            0           1   \n",
       "1   22   31            0            1            0            0           1   \n",
       "2    9   45            0            0            1            0           1   \n",
       "3   20   58            0            0            0            1           1   \n",
       "4   21   35            0            1            0            0           1   \n",
       "\n",
       "   default_yes  month_apr  month_aug  ...  poutcome_success  balance_log  \\\n",
       "0            0          0          0  ...                 0    -0.353943   \n",
       "1            0          0          1  ...                 0     3.367438   \n",
       "2            0          0          0  ...                 0    -0.112356   \n",
       "3            0          0          0  ...                 0     0.064959   \n",
       "4            0          0          0  ...                 0     1.839344   \n",
       "\n",
       "   pdays_log  duration_log  campaign_log  previous_log        c1        c2  \\\n",
       "0    0.46161      0.033731     -0.811596     -0.435061  0.669934 -0.213638   \n",
       "1    0.46161     -0.425208     -0.170094     -0.435061 -0.939981  0.705061   \n",
       "2    0.46161     -0.002151     -0.811596     -0.435061  0.399123 -0.819273   \n",
       "3    0.46161     -1.512344      0.322148     -0.435061  1.600722  0.529756   \n",
       "4    0.46161      2.413680     -0.170094     -0.435061 -0.565282  0.593416   \n",
       "\n",
       "         c3  y  \n",
       "0 -0.403107  1  \n",
       "1 -0.159961  1  \n",
       "2 -0.508545  1  \n",
       "3 -0.483361  1  \n",
       "4 -0.191371  0  \n",
       "\n",
       "[5 rows x 55 columns]"
      ]
     },
     "execution_count": 45,
     "metadata": {},
     "output_type": "execute_result"
    }
   ],
   "source": [
    "test_data.head()"
   ]
  },
  {
   "cell_type": "code",
   "execution_count": 46,
   "id": "0cf65500",
   "metadata": {},
   "outputs": [],
   "source": [
    "# Creating X,Y test and train data\n",
    "x_train = train_data[train_data.columns[:-1]]\n",
    "y_train = train_data[train_data.columns[-1]]\n",
    "x_test = test_data[test_data.columns[:-1]]\n",
    "y_test = test_data[test_data.columns[-1]]"
   ]
  },
  {
   "cell_type": "markdown",
   "id": "b5070f56",
   "metadata": {},
   "source": [
    "### Creating individual base classifiers"
   ]
  },
  {
   "cell_type": "code",
   "execution_count": 47,
   "id": "bcbcd49b",
   "metadata": {},
   "outputs": [],
   "source": [
    "random_forest = RandomForestClassifier(n_estimators=25, random_state=1)\n",
    "naive_bayes = GaussianNB()\n",
    "DT = tree.DecisionTreeClassifier(max_depth = 2)"
   ]
  },
  {
   "cell_type": "markdown",
   "id": "600950f8",
   "metadata": {},
   "source": [
    "## 1. Ensemble Method - Gradient Boosting for Classification\n",
    "#### Gradient Boosting is a powerful ensemble machine learning technique used for both classification and regression tasks. It is a sequential, additive modeling technique that builds an ensemble of weak learners (usually decision trees) to create a strong predictive model. Gradient Boosting is known for its high predictive accuracy and flexibility."
   ]
  },
  {
   "cell_type": "markdown",
   "id": "b6106177",
   "metadata": {},
   "source": [
    "### Hyperparameter Tunning for GradientBoostingClassifier"
   ]
  },
  {
   "cell_type": "code",
   "execution_count": 48,
   "id": "1bece8c6",
   "metadata": {},
   "outputs": [
    {
     "name": "stdout",
     "output_type": "stream",
     "text": [
      "Best Model Accuracy: 0.77\n",
      "Best Hyperparameters:\n",
      "{'n_estimators': 200, 'min_samples_split': 4, 'min_samples_leaf': 2, 'max_depth': 6, 'learning_rate': 0.01}\n"
     ]
    }
   ],
   "source": [
    "model = GradientBoostingClassifier(random_state=42)\n",
    "# Define a smaller search space for hyperparameters\n",
    "param_dist = {\n",
    "    'n_estimators': [100, 200, 300],\n",
    "    'learning_rate': [0.01],\n",
    "    'max_depth': [4,5,6],\n",
    "    'min_samples_split': [2, 3, 4],\n",
    "    'min_samples_leaf': [1, 2, 3]\n",
    "}\n",
    "\n",
    "# Use RandomizedSearchCV to search through a subset of the hyperparameter space\n",
    "random_search = RandomizedSearchCV(estimator=model, param_distributions=param_dist, n_iter=10,\n",
    "                                   scoring='accuracy', cv=5, random_state=42, n_jobs=-1)\n",
    "\n",
    "# Fit the randomized search to your data\n",
    "random_search.fit(x_train, y_train)\n",
    "\n",
    "# Get the best model and its hyperparameters\n",
    "best_model = random_search.best_estimator_\n",
    "best_params = random_search.best_params_\n",
    "\n",
    "# Evaluate the best model on the test set\n",
    "y_pred = best_model.predict(x_test)\n",
    "accuracy = accuracy_score(y_test, y_pred)\n",
    "print(f'Best Model Accuracy: {accuracy:.2f}')\n",
    "\n",
    "# Print the best hyperparameters\n",
    "print('Best Hyperparameters:')\n",
    "print(best_params)"
   ]
  },
  {
   "cell_type": "markdown",
   "id": "5835ab58",
   "metadata": {},
   "source": [
    "### Training Performance"
   ]
  },
  {
   "cell_type": "code",
   "execution_count": 49,
   "id": "654c4f0d",
   "metadata": {},
   "outputs": [
    {
     "name": "stdout",
     "output_type": "stream",
     "text": [
      "[0.69 0.89 0.95 0.95 0.95 0.95 0.95 0.94 0.95 0.95]\n",
      "Ten-fold Cross Validation Score= 0.9178\n"
     ]
    }
   ],
   "source": [
    "### Import cross_val_score for cross_validation\n",
    "from sklearn.model_selection import cross_val_score\n",
    " \n",
    "np.set_printoptions(formatter={'float': lambda x: \"{0:0.2f}\".format(x)})\n",
    " \n",
    "cv_score = cross_val_score(best_model, x_train, y_train, cv=10, scoring = 'accuracy')\n",
    "print(cv_score)\n",
    "print (\"Ten-fold Cross Validation Score=\", \"%.4f\" % np.mean(cv_score)) \n",
    "#average of 10 iterations"
   ]
  },
  {
   "cell_type": "markdown",
   "id": "171a62da",
   "metadata": {},
   "source": [
    "### Testing Performance"
   ]
  },
  {
   "cell_type": "code",
   "execution_count": 50,
   "id": "93e36a2f",
   "metadata": {},
   "outputs": [
    {
     "name": "stdout",
     "output_type": "stream",
     "text": [
      "Testing Accuracy: 0.7726418224040694\n",
      "Confusion Matrix:\n",
      " [[ 911  147]\n",
      " [1909 6076]]\n",
      "Classification Report:\n",
      "               precision    recall  f1-score   support\n",
      "\n",
      "           0       0.32      0.86      0.47      1058\n",
      "           1       0.98      0.76      0.86      7985\n",
      "\n",
      "    accuracy                           0.77      9043\n",
      "   macro avg       0.65      0.81      0.66      9043\n",
      "weighted avg       0.90      0.77      0.81      9043\n",
      "\n"
     ]
    },
    {
     "data": {
      "image/png": "[encoded data removed]",
      "text/plain": [
       "<Figure size 432x288 with 2 Axes>"
      ]
     },
     "metadata": {
      "needs_background": "light"
     },
     "output_type": "display_data"
    }
   ],
   "source": [
    "accuracy = accuracy_score(y_test, y_pred)\n",
    "confusion_matrix = metrics.confusion_matrix(y_test, y_pred)\n",
    "classification_rep = classification_report(y_test, y_pred)\n",
    "print(\"Testing Accuracy:\", accuracy)\n",
    "print(\"Confusion Matrix:\\n\", confusion_matrix)\n",
    "print(\"Classification Report:\\n\", classification_rep)\n",
    "cm_display = metrics.ConfusionMatrixDisplay(confusion_matrix = confusion_matrix, display_labels = [False, True])\n",
    "cm_display.plot()\n",
    "plt.show()"
   ]
  },
  {
   "cell_type": "markdown",
   "id": "3beb40e8",
   "metadata": {},
   "source": [
    "### Feature Importance Assessment\n",
    "#### Assessing feature importance in a Gradient Boosting Classifier is a valuable step to understand which features have the most impact on model predictions"
   ]
  },
  {
   "cell_type": "code",
   "execution_count": 60,
   "id": "8b766b79",
   "metadata": {},
   "outputs": [],
   "source": [
    "feature_importance = best_model.feature_importances_"
   ]
  },
  {
   "cell_type": "code",
   "execution_count": 61,
   "id": "b534eece",
   "metadata": {
    "scrolled": true
   },
   "outputs": [
    {
     "data": {
      "image/png": "[encoded data removed]",
      "text/plain": [
       "<Figure size 1080x1080 with 1 Axes>"
      ]
     },
     "metadata": {
      "needs_background": "light"
     },
     "output_type": "display_data"
    },
    {
     "data": {
      "text/plain": [
       "array([ 7, 10, 41, 35,  6, 37, 19, 33, 29, 32, 42, 30, 20,  0,  1, 15, 50,\n",
       "       18, 46,  8, 11, 49, 51, 34, 27, 31,  2, 36, 47, 12, 28, 39,  5, 38,\n",
       "       21, 52, 40, 26, 45, 17, 25,  4, 24, 53, 14, 13,  3,  9, 16, 43, 44,\n",
       "       22, 23, 48], dtype=int64)"
      ]
     },
     "execution_count": 61,
     "metadata": {},
     "output_type": "execute_result"
    }
   ],
   "source": [
    "## Visualizaing Feature importance\n",
    "feature_names = x_train.columns\n",
    "sorted_idx = np.argsort(feature_importance)\n",
    "sorted_feature_importance = feature_importance[sorted_idx]\n",
    "sorted_feature_names = feature_names[sorted_idx]\n",
    "\n",
    "# Create a bar plot\n",
    "plt.figure(figsize=(15, 15))\n",
    "plt.barh(range(len(sorted_feature_importance)), sorted_feature_importance, align=\"center\")\n",
    "plt.yticks(range(len(sorted_feature_importance)), sorted_feature_names)\n",
    "plt.xlabel(\"Feature Importance\")\n",
    "plt.title(\"Gradient Boosting Classifier - Feature Importance\")\n",
    "plt.show()\n",
    "sorted_idx"
   ]
  },
  {
   "cell_type": "markdown",
   "id": "0481572d",
   "metadata": {},
   "source": [
    "## 2. Ensemble Method - AdaBoost\n",
    "### AdaBoost (Adaptive Boosting) is an ensemble learning technique that combines multiple weak classifiers to create a strong classifier. "
   ]
  },
  {
   "cell_type": "markdown",
   "id": "56d9632d",
   "metadata": {},
   "source": [
    "### Model Performance"
   ]
  },
  {
   "cell_type": "code",
   "execution_count": 20,
   "id": "82b427d3",
   "metadata": {},
   "outputs": [
    {
     "name": "stdout",
     "output_type": "stream",
     "text": [
      "Training accuracy: 0.882 (+/- 0.0045) Testing accuracy: 0.709 [Decision Tree]\n",
      "Confusion Matrix:\n",
      " [[ 727  331]\n",
      " [2296 5689]]\n",
      "Classification Report:\n",
      "               precision    recall  f1-score   support\n",
      "\n",
      "           0       0.24      0.69      0.36      1058\n",
      "           1       0.95      0.71      0.81      7985\n",
      "\n",
      "    accuracy                           0.71      9043\n",
      "   macro avg       0.59      0.70      0.58      9043\n",
      "weighted avg       0.86      0.71      0.76      9043\n",
      "\n"
     ]
    },
    {
     "data": {
      "image/png": "[encoded data removed]",
      "text/plain": [
       "<Figure size 432x288 with 2 Axes>"
      ]
     },
     "metadata": {
      "needs_background": "light"
     },
     "output_type": "display_data"
    },
    {
     "name": "stdout",
     "output_type": "stream",
     "text": [
      "Training accuracy: 0.897 (+/- 0.0043) Testing accuracy: 0.861 [random_forest]\n",
      "Confusion Matrix:\n",
      " [[ 768  290]\n",
      " [ 964 7021]]\n",
      "Classification Report:\n",
      "               precision    recall  f1-score   support\n",
      "\n",
      "           0       0.44      0.73      0.55      1058\n",
      "           1       0.96      0.88      0.92      7985\n",
      "\n",
      "    accuracy                           0.86      9043\n",
      "   macro avg       0.70      0.80      0.73      9043\n",
      "weighted avg       0.90      0.86      0.88      9043\n",
      "\n"
     ]
    },
    {
     "data": {
      "image/png": "[encoded data removed]",
      "text/plain": [
       "<Figure size 432x288 with 2 Axes>"
      ]
     },
     "metadata": {
      "needs_background": "light"
     },
     "output_type": "display_data"
    },
    {
     "name": "stdout",
     "output_type": "stream",
     "text": [
      "Training accuracy: 0.603 (+/- 0.1986) Testing accuracy: 0.859 [Naive_Bayes]\n",
      "Confusion Matrix:\n",
      " [[  48 1010]\n",
      " [ 268 7717]]\n",
      "Classification Report:\n",
      "               precision    recall  f1-score   support\n",
      "\n",
      "           0       0.15      0.05      0.07      1058\n",
      "           1       0.88      0.97      0.92      7985\n",
      "\n",
      "    accuracy                           0.86      9043\n",
      "   macro avg       0.52      0.51      0.50      9043\n",
      "weighted avg       0.80      0.86      0.82      9043\n",
      "\n"
     ]
    },
    {
     "data": {
      "image/png": "[encoded data removed]",
      "text/plain": [
       "<Figure size 432x288 with 2 Axes>"
      ]
     },
     "metadata": {
      "needs_background": "light"
     },
     "output_type": "display_data"
    }
   ],
   "source": [
    "for clf, label in zip([DT, random_forest, naive_bayes], ['Decision Tree','random_forest', 'Naive_Bayes']):\n",
    "    adaboost_classifier = AdaBoostClassifier(clf,algorithm='SAMME.R')\n",
    "    adaboost_classifier.fit(x_train, y_train)\n",
    "    y_pred = adaboost_classifier.predict(x_test)\n",
    "    accuracy = accuracy_score(y_test, y_pred)\n",
    "    scores = cross_val_score(adaboost_classifier, x_test, y_test,error_score='raise', scoring='accuracy')\n",
    "    print(\"Training accuracy: %0.3f (+/- %0.4f) Testing accuracy: %0.3f [%s]\" % (scores.mean(), scores.std(),accuracy, label))\n",
    "    confusion_matrix = metrics.confusion_matrix(y_test, y_pred)\n",
    "    classification_rep = classification_report(y_test, y_pred)\n",
    "    print(\"Confusion Matrix:\\n\", confusion_matrix)\n",
    "    print(\"Classification Report:\\n\", classification_rep)\n",
    "    cm_display = metrics.ConfusionMatrixDisplay(confusion_matrix = confusion_matrix, display_labels = [False, True])\n",
    "    cm_display.plot()\n",
    "    plt.show()"
   ]
  },
  {
   "cell_type": "markdown",
   "id": "142c6d22",
   "metadata": {},
   "source": [
    "## 3. Ensemble Method - Hard voting classifier"
   ]
  },
  {
   "cell_type": "code",
   "execution_count": 21,
   "id": "8812c1aa",
   "metadata": {},
   "outputs": [],
   "source": [
    "# Soft voting classifier\n",
    "ensemble_classifier = VotingClassifier(estimators=[\n",
    "    ('random_forest', random_forest),\n",
    "    ('logistic_regression', logistic_regression),\n",
    "    ('Neural_Network',neural )\n",
    "], voting='hard')"
   ]
  },
  {
   "cell_type": "code",
   "execution_count": 22,
   "id": "c8ee8258",
   "metadata": {},
   "outputs": [],
   "source": [
    "ensemble_classifier = ensemble_classifier.fit(x_train, y_train)"
   ]
  },
  {
   "cell_type": "markdown",
   "id": "9e558b37",
   "metadata": {},
   "source": [
    "### Model Performance"
   ]
  },
  {
   "cell_type": "code",
   "execution_count": 23,
   "id": "8c116eff",
   "metadata": {},
   "outputs": [
    {
     "name": "stdout",
     "output_type": "stream",
     "text": [
      "Training accuracy: 0.934 (+/- 0.1091) [random_forest]\n",
      "Training accuracy: 0.931 (+/- 0.1244) [logistic_regression]\n",
      "Training accuracy: 0.927 (+/- 0.1040) [Neural_Network]\n",
      "Training accuracy: 0.934 (+/- 0.1183) [ensemble_classifier]\n",
      "Testing accuracy: 0.891 [Ensemble Classifier]\n"
     ]
    }
   ],
   "source": [
    "for clf, label in zip([random_forest, logistic_regression, neural, ensemble_classifier], ['random_forest', 'logistic_regression', 'Neural_Network', 'ensemble_classifier']):\n",
    "    scores = cross_val_score(clf, x_train, y_train, cv=10, scoring='accuracy')\n",
    "    print(\"Training accuracy: %0.3f (+/- %0.4f) [%s]\" % (scores.mean(), scores.std(),label))\n",
    "y_pred = ensemble_classifier.predict(x_test)\n",
    "accuracy = metrics.accuracy_score(y_test, y_pred)\n",
    "print('Testing accuracy: %0.3f [Ensemble Classifier]'% accuracy)"
   ]
  },
  {
   "cell_type": "code",
   "execution_count": 24,
   "id": "3b98762f",
   "metadata": {},
   "outputs": [
    {
     "name": "stdout",
     "output_type": "stream",
     "text": [
      "[0.59 0.89 0.98 0.98 0.98 0.98 0.98 0.98 0.98 0.98]\n",
      "Ten-fold Cross Validation Score= 0.9335\n"
     ]
    }
   ],
   "source": [
    "### Import cross_val_score for cross_validation\n",
    "from sklearn.model_selection import cross_val_score\n",
    " \n",
    "np.set_printoptions(formatter={'float': lambda x: \"{0:0.2f}\".format(x)})\n",
    " \n",
    "cv_score = cross_val_score(ensemble_classifier, x_train, y_train, cv=10, scoring = 'accuracy')\n",
    "print(cv_score)\n",
    "print (\"Ten-fold Cross Validation Score=\", \"%.4f\" % np.mean(cv_score)) \n",
    "#average of 10 iterations"
   ]
  },
  {
   "cell_type": "code",
   "execution_count": 25,
   "id": "a0dee0b7",
   "metadata": {},
   "outputs": [
    {
     "name": "stdout",
     "output_type": "stream",
     "text": [
      "Testing Accuracy: 0.8905230565077961\n",
      "Confusion Matrix:\n",
      " [[ 610  448]\n",
      " [ 542 7443]]\n",
      "Classification Report:\n",
      "               precision    recall  f1-score   support\n",
      "\n",
      "           0       0.53      0.58      0.55      1058\n",
      "           1       0.94      0.93      0.94      7985\n",
      "\n",
      "    accuracy                           0.89      9043\n",
      "   macro avg       0.74      0.75      0.74      9043\n",
      "weighted avg       0.89      0.89      0.89      9043\n",
      "\n"
     ]
    },
    {
     "data": {
      "image/png": "[encoded data removed]",
      "text/plain": [
       "<Figure size 432x288 with 2 Axes>"
      ]
     },
     "metadata": {
      "needs_background": "light"
     },
     "output_type": "display_data"
    }
   ],
   "source": [
    "accuracy = accuracy_score(y_test, y_pred)\n",
    "confusion = metrics.confusion_matrix(y_test, y_pred)\n",
    "classification_rep = classification_report(y_test, y_pred)\n",
    "print(\"Testing Accuracy:\", accuracy)\n",
    "print(\"Confusion Matrix:\\n\", confusion)\n",
    "print(\"Classification Report:\\n\", classification_rep)\n",
    "cm_display = metrics.ConfusionMatrixDisplay(confusion_matrix = confusion, display_labels = [False, True])\n",
    "cm_display.plot()\n",
    "plt.show()"
   ]
  },
  {
   "cell_type": "code",
   "execution_count": null,
   "id": "ddb6dddf",
   "metadata": {},
   "outputs": [],
   "source": []
  }
 ],
 "metadata": {
  "kernelspec": {
   "display_name": "Python 3 (ipykernel)",
   "language": "python",
   "name": "python3"
  },
  "language_info": {
   "codemirror_mode": {
    "name": "ipython",
    "version": 3
   },
   "file_extension": ".py",
   "mimetype": "text/x-python",
   "name": "python",
   "nbconvert_exporter": "python",
   "pygments_lexer": "ipython3",
   "version": "3.9.12"
  }
 },
 "nbformat": 4,
 "nbformat_minor": 5
}
