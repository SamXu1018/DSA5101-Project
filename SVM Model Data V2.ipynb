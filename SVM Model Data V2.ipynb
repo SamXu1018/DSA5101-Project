{
 "cells": [
  {
   "cell_type": "code",
   "execution_count": 1,
   "id": "e6b5464f",
   "metadata": {},
   "outputs": [],
   "source": [
    "import numpy as np\n",
    "import pandas as pd\n",
    "import matplotlib.pyplot as plt\n",
    "from sklearn.model_selection import cross_val_score, GridSearchCV, train_test_split\n",
    "from sklearn.svm import SVC\n",
    "from sklearn.metrics import accuracy_score, classification_report"
   ]
  },
  {
   "cell_type": "code",
   "execution_count": 2,
   "id": "0302cf38",
   "metadata": {},
   "outputs": [],
   "source": [
    "# Load the csv file\n",
    "train_data = pd.read_csv('train_data_preprocessed_v2.csv')\n",
    "test_data = pd.read_csv('test_data_preprocessed_v2.csv')"
   ]
  },
  {
   "cell_type": "code",
   "execution_count": 3,
   "id": "87f7efcc",
   "metadata": {},
   "outputs": [],
   "source": [
    "x_train = train_data[train_data.columns[:-1]]\n",
    "y_train = train_data[train_data.columns[-1]]\n",
    "x_test = test_data[test_data.columns[:-1]]\n",
    "y_test = test_data[test_data.columns[-1]]"
   ]
  },
  {
   "cell_type": "code",
   "execution_count": 4,
   "id": "ab2c1c7a",
   "metadata": {},
   "outputs": [
    {
     "name": "stdout",
     "output_type": "stream",
     "text": [
      "Cross-Validation Scores: [0.88305225 0.88305225 0.88291402 0.88303608 0.88303608]\n",
      "Mean Cross-Validation Score: 0.8830181385725526\n",
      "Best Hyperparameters: {'C': 100}\n",
      "Best Accuracy: 0.8946858317373971\n"
     ]
    },
    {
     "data": {
      "image/png": "[encoded data removed]",
      "text/plain": [
       "<Figure size 720x432 with 1 Axes>"
      ]
     },
     "metadata": {
      "needs_background": "light"
     },
     "output_type": "display_data"
    },
    {
     "name": "stdout",
     "output_type": "stream",
     "text": [
      "Accuracy on Test Set: 0.8921817980758597\n",
      "Classification Report on Test Set:\n",
      "               precision    recall  f1-score   support\n",
      "\n",
      "           0       0.90      0.98      0.94      7985\n",
      "           1       0.62      0.20      0.31      1058\n",
      "\n",
      "    accuracy                           0.89      9043\n",
      "   macro avg       0.76      0.59      0.62      9043\n",
      "weighted avg       0.87      0.89      0.87      9043\n",
      "\n"
     ]
    }
   ],
   "source": [
    "# Step 1: Initialize an SVM classifier with RBF kernel and default gamma\n",
    "clf = SVC(kernel='rbf', gamma='scale', random_state=42)\n",
    "\n",
    "# Step 2: Perform 5-fold cross-validation and record cross-validation scores\n",
    "cross_val_scores = cross_val_score(clf, x_train, y_train, cv=5, scoring='accuracy')\n",
    "print(\"Cross-Validation Scores:\", cross_val_scores)\n",
    "print(\"Mean Cross-Validation Score:\", np.mean(cross_val_scores))\n",
    "\n",
    "# Step 3: Choose hyperparameters to tune and define parameter grid\n",
    "param_grid = {\n",
    "    'C': [0.1, 1, 10, 100],  # Specify 5 different C values\n",
    "}\n",
    "\n",
    "# Step 4: Perform hyperparameter tuning using GridSearchCV\n",
    "grid_search = GridSearchCV(clf, param_grid, cv=5, scoring='accuracy')\n",
    "grid_search.fit(x_train, y_train)\n",
    "\n",
    "# Step 5: Print the best hyperparameters and corresponding accuracy\n",
    "best_params = grid_search.best_params_\n",
    "best_accuracy = grid_search.best_score_\n",
    "print(\"Best Hyperparameters:\", best_params)\n",
    "print(\"Best Accuracy:\", best_accuracy)\n",
    "\n",
    "# Step 6: Plot accuracy vs. tuned parameter values\n",
    "tuned_parameters = [str(param) for param in grid_search.cv_results_['params']]\n",
    "mean_test_scores = grid_search.cv_results_['mean_test_score']\n",
    "\n",
    "plt.figure(figsize=(10, 6))\n",
    "plt.bar(tuned_parameters, mean_test_scores)\n",
    "plt.xlabel('Tuned Parameters')\n",
    "plt.ylabel('Mean Test Accuracy')\n",
    "plt.title('Accuracy vs. Tuned Parameters')\n",
    "plt.xticks(rotation=45)\n",
    "plt.show()\n",
    "\n",
    "# Step 7: Train the final model with the best hyperparameters\n",
    "best_clf = SVC(kernel='rbf', gamma='scale', random_state=42, **best_params)\n",
    "best_clf.fit(x_train, y_train)\n",
    "\n",
    "# Step 8: Make predictions on the test set\n",
    "y_pred = best_clf.predict(x_test)\n",
    "\n",
    "# Step 9: Evaluate the model's performance\n",
    "accuracy = accuracy_score(y_test, y_pred)\n",
    "print(\"Accuracy on Test Set:\", accuracy)\n",
    "print(\"Classification Report on Test Set:\\n\", classification_report(y_test, y_pred))\n"
   ]
  },
  {
   "cell_type": "code",
   "execution_count": 5,
   "id": "c09255be",
   "metadata": {},
   "outputs": [
    {
     "name": "stdout",
     "output_type": "stream",
     "text": [
      "Cross-Validation Scores: [0.89079348 0.89189936 0.88885817 0.88967234 0.88828978]\n",
      "Mean Cross-Validation Score: 0.8899026254387081\n",
      "Best Hyperparameters: {'degree': 1}\n",
      "Best Accuracy: 0.8932480959519505\n"
     ]
    },
    {
     "data": {
      "image/png": "[encoded data removed]",
      "text/plain": [
       "<Figure size 720x432 with 1 Axes>"
      ]
     },
     "metadata": {
      "needs_background": "light"
     },
     "output_type": "display_data"
    },
    {
     "name": "stdout",
     "output_type": "stream",
     "text": [
      "Accuracy on Test Set: 0.8912971359062258\n",
      "Classification Report on Test Set:\n",
      "               precision    recall  f1-score   support\n",
      "\n",
      "           0       0.90      0.99      0.94      7985\n",
      "           1       0.62      0.18      0.28      1058\n",
      "\n",
      "    accuracy                           0.89      9043\n",
      "   macro avg       0.76      0.58      0.61      9043\n",
      "weighted avg       0.87      0.89      0.86      9043\n",
      "\n"
     ]
    }
   ],
   "source": [
    "# Step 1: Initialize an SVM classifier with polynomial kernel and C=10\n",
    "clf = SVC(kernel='poly', C=10, random_state=42)\n",
    "\n",
    "# Step 2: Perform 5-fold cross-validation and record cross-validation scores\n",
    "cross_val_scores = cross_val_score(clf, x_train, y_train, cv=5, scoring='accuracy')\n",
    "print(\"Cross-Validation Scores:\", cross_val_scores)\n",
    "print(\"Mean Cross-Validation Score:\", np.mean(cross_val_scores))\n",
    "\n",
    "# Step 3: Choose hyperparameters to tune and define parameter grid\n",
    "param_grid = {\n",
    "    'degree': [1, 2, 3, 5],  # Specify different degree values\n",
    "}\n",
    "\n",
    "# Step 4: Perform hyperparameter tuning using GridSearchCV\n",
    "grid_search = GridSearchCV(clf, param_grid, cv=5, scoring='accuracy')\n",
    "grid_search.fit(x_train, y_train)\n",
    "\n",
    "# Step 5: Print the best hyperparameters and corresponding accuracy\n",
    "best_params = grid_search.best_params_\n",
    "best_accuracy = grid_search.best_score_\n",
    "print(\"Best Hyperparameters:\", best_params)\n",
    "print(\"Best Accuracy:\", best_accuracy)\n",
    "\n",
    "# Step 6: Plot accuracy vs. tuned parameter values\n",
    "tuned_parameters = [str(param) for param in grid_search.cv_results_['params']]\n",
    "mean_test_scores = grid_search.cv_results_['mean_test_score']\n",
    "\n",
    "plt.figure(figsize=(10, 6))\n",
    "plt.bar(tuned_parameters, mean_test_scores)\n",
    "plt.xlabel('Tuned Parameters')\n",
    "plt.ylabel('Mean Test Accuracy')\n",
    "plt.title('Accuracy vs. Tuned Parameters')\n",
    "plt.xticks(rotation=45)\n",
    "plt.show()\n",
    "\n",
    "# Step 7: Train the final model with the best hyperparameters\n",
    "best_clf = SVC(kernel='poly', C=10, random_state=42, **best_params)\n",
    "best_clf.fit(x_train, y_train)\n",
    "\n",
    "# Step 8: Make predictions on the test set\n",
    "y_pred = best_clf.predict(x_test)\n",
    "\n",
    "# Step 9: Evaluate the model's performance\n",
    "accuracy = accuracy_score(y_test, y_pred)\n",
    "print(\"Accuracy on Test Set:\", accuracy)\n",
    "print(\"Classification Report on Test Set:\\n\", classification_report(y_test, y_pred))\n"
   ]
  },
  {
   "cell_type": "code",
   "execution_count": null,
   "id": "5a0abe81",
   "metadata": {},
   "outputs": [],
   "source": []
  }
 ],
 "metadata": {
  "kernelspec": {
   "display_name": "Python 3 (ipykernel)",
   "language": "python",
   "name": "python3"
  },
  "language_info": {
   "codemirror_mode": {
    "name": "ipython",
    "version": 3
   },
   "file_extension": ".py",
   "mimetype": "text/x-python",
   "name": "python",
   "nbconvert_exporter": "python",
   "pygments_lexer": "ipython3",
   "version": "3.9.12"
  }
 },
 "nbformat": 4,
 "nbformat_minor": 5
}
