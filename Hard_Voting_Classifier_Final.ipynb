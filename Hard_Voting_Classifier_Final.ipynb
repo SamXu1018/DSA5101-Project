{
 "cells": [
  {
   "cell_type": "code",
   "execution_count": 1,
   "id": "e85c99fe",
   "metadata": {},
   "outputs": [],
   "source": [
    "import pandas as pd\n",
    "import matplotlib.pyplot as plt\n",
    "import numpy as np"
   ]
  },
  {
   "cell_type": "code",
   "execution_count": 2,
   "id": "7f0c9178",
   "metadata": {},
   "outputs": [],
   "source": [
    "from sklearn.ensemble import RandomForestClassifier, VotingClassifier\n",
    "from sklearn.linear_model import LogisticRegression\n",
    "from sklearn.naive_bayes import GaussianNB\n",
    "from sklearn.model_selection import cross_val_score, GridSearchCV\n",
    "from sklearn.ensemble import AdaBoostClassifier, GradientBoostingClassifier\n",
    "from sklearn.model_selection import RandomizedSearchCV\n",
    "from sklearn import svm\n",
    "from sklearn import metrics\n",
    "from sklearn.metrics import accuracy_score, confusion_matrix, classification_report\n",
    "from sklearn.neural_network import MLPClassifier\n",
    "from sklearn import tree"
   ]
  },
  {
   "cell_type": "markdown",
   "id": "3de93f7b",
   "metadata": {},
   "source": [
    "## Display Training & Test data (top & bottom five datasets)"
   ]
  },
  {
   "cell_type": "code",
   "execution_count": 3,
   "id": "9b58d17d",
   "metadata": {},
   "outputs": [],
   "source": [
    "#load the csv file\n",
    "train_data = pd.read_csv('train_data_preprocessed_v3.csv')\n",
    "test_data = pd.read_csv('test_data_preprocessed_v3.csv')"
   ]
  },
  {
   "cell_type": "code",
   "execution_count": 4,
   "id": "1a6bad30",
   "metadata": {},
   "outputs": [
    {
     "data": {
      "text/plain": [
       "(63874, 55)"
      ]
     },
     "execution_count": 4,
     "metadata": {},
     "output_type": "execute_result"
    }
   ],
   "source": [
    "train_data.shape"
   ]
  },
  {
   "cell_type": "code",
   "execution_count": 5,
   "id": "301f36f1",
   "metadata": {},
   "outputs": [
    {
     "data": {
      "text/plain": [
       "(9043, 55)"
      ]
     },
     "execution_count": 5,
     "metadata": {},
     "output_type": "execute_result"
    }
   ],
   "source": [
    "test_data.shape"
   ]
  },
  {
   "cell_type": "code",
   "execution_count": 6,
   "id": "cfb4ea88",
   "metadata": {},
   "outputs": [
    {
     "data": {
      "text/html": [
       "<div>\n",
       "<style scoped>\n",
       "    .dataframe tbody tr th:only-of-type {\n",
       "        vertical-align: middle;\n",
       "    }\n",
       "\n",
       "    .dataframe tbody tr th {\n",
       "        vertical-align: top;\n",
       "    }\n",
       "\n",
       "    .dataframe thead th {\n",
       "        text-align: right;\n",
       "    }\n",
       "</style>\n",
       "<table border=\"1\" class=\"dataframe\">\n",
       "  <thead>\n",
       "    <tr style=\"text-align: right;\">\n",
       "      <th></th>\n",
       "      <th>day</th>\n",
       "      <th>age</th>\n",
       "      <th>age_class_0</th>\n",
       "      <th>age_class_1</th>\n",
       "      <th>age_class_2</th>\n",
       "      <th>age_class_3</th>\n",
       "      <th>default_no</th>\n",
       "      <th>default_yes</th>\n",
       "      <th>month_apr</th>\n",
       "      <th>month_aug</th>\n",
       "      <th>...</th>\n",
       "      <th>poutcome_success</th>\n",
       "      <th>balance_log</th>\n",
       "      <th>pdays_log</th>\n",
       "      <th>duration_log</th>\n",
       "      <th>campaign_log</th>\n",
       "      <th>previous_log</th>\n",
       "      <th>c1</th>\n",
       "      <th>c2</th>\n",
       "      <th>c3</th>\n",
       "      <th>y</th>\n",
       "    </tr>\n",
       "  </thead>\n",
       "  <tbody>\n",
       "    <tr>\n",
       "      <th>0</th>\n",
       "      <td>29</td>\n",
       "      <td>42</td>\n",
       "      <td>0</td>\n",
       "      <td>0</td>\n",
       "      <td>1</td>\n",
       "      <td>0</td>\n",
       "      <td>1</td>\n",
       "      <td>0</td>\n",
       "      <td>0</td>\n",
       "      <td>0</td>\n",
       "      <td>...</td>\n",
       "      <td>0</td>\n",
       "      <td>-0.710220</td>\n",
       "      <td>0.556372</td>\n",
       "      <td>-1.832544</td>\n",
       "      <td>5.809419</td>\n",
       "      <td>-0.531878</td>\n",
       "      <td>0.087504</td>\n",
       "      <td>1.789912</td>\n",
       "      <td>-1.279360</td>\n",
       "      <td>1</td>\n",
       "    </tr>\n",
       "    <tr>\n",
       "      <th>1</th>\n",
       "      <td>15</td>\n",
       "      <td>50</td>\n",
       "      <td>0</td>\n",
       "      <td>0</td>\n",
       "      <td>1</td>\n",
       "      <td>0</td>\n",
       "      <td>1</td>\n",
       "      <td>0</td>\n",
       "      <td>0</td>\n",
       "      <td>0</td>\n",
       "      <td>...</td>\n",
       "      <td>0</td>\n",
       "      <td>-0.605846</td>\n",
       "      <td>0.556372</td>\n",
       "      <td>0.243524</td>\n",
       "      <td>-0.011872</td>\n",
       "      <td>-0.531878</td>\n",
       "      <td>0.840223</td>\n",
       "      <td>-0.015243</td>\n",
       "      <td>-0.665628</td>\n",
       "      <td>1</td>\n",
       "    </tr>\n",
       "    <tr>\n",
       "      <th>2</th>\n",
       "      <td>5</td>\n",
       "      <td>47</td>\n",
       "      <td>0</td>\n",
       "      <td>0</td>\n",
       "      <td>1</td>\n",
       "      <td>0</td>\n",
       "      <td>1</td>\n",
       "      <td>0</td>\n",
       "      <td>0</td>\n",
       "      <td>0</td>\n",
       "      <td>...</td>\n",
       "      <td>0</td>\n",
       "      <td>-0.440095</td>\n",
       "      <td>0.556372</td>\n",
       "      <td>-1.201884</td>\n",
       "      <td>3.516911</td>\n",
       "      <td>-0.531878</td>\n",
       "      <td>0.574884</td>\n",
       "      <td>-1.294733</td>\n",
       "      <td>-1.277750</td>\n",
       "      <td>1</td>\n",
       "    </tr>\n",
       "    <tr>\n",
       "      <th>3</th>\n",
       "      <td>16</td>\n",
       "      <td>39</td>\n",
       "      <td>0</td>\n",
       "      <td>1</td>\n",
       "      <td>0</td>\n",
       "      <td>0</td>\n",
       "      <td>1</td>\n",
       "      <td>0</td>\n",
       "      <td>0</td>\n",
       "      <td>0</td>\n",
       "      <td>...</td>\n",
       "      <td>0</td>\n",
       "      <td>-0.154512</td>\n",
       "      <td>0.556372</td>\n",
       "      <td>-1.240974</td>\n",
       "      <td>-0.724921</td>\n",
       "      <td>-0.531878</td>\n",
       "      <td>-0.177147</td>\n",
       "      <td>0.095431</td>\n",
       "      <td>-0.473078</td>\n",
       "      <td>1</td>\n",
       "    </tr>\n",
       "    <tr>\n",
       "      <th>4</th>\n",
       "      <td>30</td>\n",
       "      <td>30</td>\n",
       "      <td>1</td>\n",
       "      <td>0</td>\n",
       "      <td>0</td>\n",
       "      <td>0</td>\n",
       "      <td>1</td>\n",
       "      <td>0</td>\n",
       "      <td>1</td>\n",
       "      <td>0</td>\n",
       "      <td>...</td>\n",
       "      <td>0</td>\n",
       "      <td>-0.463407</td>\n",
       "      <td>0.556372</td>\n",
       "      <td>-0.033302</td>\n",
       "      <td>-0.011872</td>\n",
       "      <td>-0.531878</td>\n",
       "      <td>-1.022643</td>\n",
       "      <td>1.883206</td>\n",
       "      <td>-0.257505</td>\n",
       "      <td>0</td>\n",
       "    </tr>\n",
       "  </tbody>\n",
       "</table>\n",
       "<p>5 rows × 55 columns</p>\n",
       "</div>"
      ],
      "text/plain": [
       "   day  age  age_class_0  age_class_1  age_class_2  age_class_3  default_no  \\\n",
       "0   29   42            0            0            1            0           1   \n",
       "1   15   50            0            0            1            0           1   \n",
       "2    5   47            0            0            1            0           1   \n",
       "3   16   39            0            1            0            0           1   \n",
       "4   30   30            1            0            0            0           1   \n",
       "\n",
       "   default_yes  month_apr  month_aug  ...  poutcome_success  balance_log  \\\n",
       "0            0          0          0  ...                 0    -0.710220   \n",
       "1            0          0          0  ...                 0    -0.605846   \n",
       "2            0          0          0  ...                 0    -0.440095   \n",
       "3            0          0          0  ...                 0    -0.154512   \n",
       "4            0          1          0  ...                 0    -0.463407   \n",
       "\n",
       "   pdays_log  duration_log  campaign_log  previous_log        c1        c2  \\\n",
       "0   0.556372     -1.832544      5.809419     -0.531878  0.087504  1.789912   \n",
       "1   0.556372      0.243524     -0.011872     -0.531878  0.840223 -0.015243   \n",
       "2   0.556372     -1.201884      3.516911     -0.531878  0.574884 -1.294733   \n",
       "3   0.556372     -1.240974     -0.724921     -0.531878 -0.177147  0.095431   \n",
       "4   0.556372     -0.033302     -0.011872     -0.531878 -1.022643  1.883206   \n",
       "\n",
       "         c3  y  \n",
       "0 -1.279360  1  \n",
       "1 -0.665628  1  \n",
       "2 -1.277750  1  \n",
       "3 -0.473078  1  \n",
       "4 -0.257505  0  \n",
       "\n",
       "[5 rows x 55 columns]"
      ]
     },
     "execution_count": 6,
     "metadata": {},
     "output_type": "execute_result"
    }
   ],
   "source": [
    "train_data.head()"
   ]
  },
  {
   "cell_type": "code",
   "execution_count": 7,
   "id": "213341d8",
   "metadata": {},
   "outputs": [
    {
     "data": {
      "text/html": [
       "<div>\n",
       "<style scoped>\n",
       "    .dataframe tbody tr th:only-of-type {\n",
       "        vertical-align: middle;\n",
       "    }\n",
       "\n",
       "    .dataframe tbody tr th {\n",
       "        vertical-align: top;\n",
       "    }\n",
       "\n",
       "    .dataframe thead th {\n",
       "        text-align: right;\n",
       "    }\n",
       "</style>\n",
       "<table border=\"1\" class=\"dataframe\">\n",
       "  <thead>\n",
       "    <tr style=\"text-align: right;\">\n",
       "      <th></th>\n",
       "      <th>day</th>\n",
       "      <th>age</th>\n",
       "      <th>age_class_0</th>\n",
       "      <th>age_class_1</th>\n",
       "      <th>age_class_2</th>\n",
       "      <th>age_class_3</th>\n",
       "      <th>default_no</th>\n",
       "      <th>default_yes</th>\n",
       "      <th>month_apr</th>\n",
       "      <th>month_aug</th>\n",
       "      <th>...</th>\n",
       "      <th>poutcome_success</th>\n",
       "      <th>balance_log</th>\n",
       "      <th>pdays_log</th>\n",
       "      <th>duration_log</th>\n",
       "      <th>campaign_log</th>\n",
       "      <th>previous_log</th>\n",
       "      <th>c1</th>\n",
       "      <th>c2</th>\n",
       "      <th>c3</th>\n",
       "      <th>y</th>\n",
       "    </tr>\n",
       "  </thead>\n",
       "  <tbody>\n",
       "    <tr>\n",
       "      <th>0</th>\n",
       "      <td>14</td>\n",
       "      <td>48</td>\n",
       "      <td>0</td>\n",
       "      <td>0</td>\n",
       "      <td>1</td>\n",
       "      <td>0</td>\n",
       "      <td>1</td>\n",
       "      <td>0</td>\n",
       "      <td>0</td>\n",
       "      <td>0</td>\n",
       "      <td>...</td>\n",
       "      <td>0</td>\n",
       "      <td>-0.353943</td>\n",
       "      <td>0.46161</td>\n",
       "      <td>0.033731</td>\n",
       "      <td>-0.811596</td>\n",
       "      <td>-0.435061</td>\n",
       "      <td>0.669934</td>\n",
       "      <td>-0.213638</td>\n",
       "      <td>-0.403107</td>\n",
       "      <td>1</td>\n",
       "    </tr>\n",
       "    <tr>\n",
       "      <th>1</th>\n",
       "      <td>22</td>\n",
       "      <td>31</td>\n",
       "      <td>0</td>\n",
       "      <td>1</td>\n",
       "      <td>0</td>\n",
       "      <td>0</td>\n",
       "      <td>1</td>\n",
       "      <td>0</td>\n",
       "      <td>0</td>\n",
       "      <td>1</td>\n",
       "      <td>...</td>\n",
       "      <td>0</td>\n",
       "      <td>3.367438</td>\n",
       "      <td>0.46161</td>\n",
       "      <td>-0.425208</td>\n",
       "      <td>-0.170094</td>\n",
       "      <td>-0.435061</td>\n",
       "      <td>-0.939981</td>\n",
       "      <td>0.705061</td>\n",
       "      <td>-0.159961</td>\n",
       "      <td>1</td>\n",
       "    </tr>\n",
       "    <tr>\n",
       "      <th>2</th>\n",
       "      <td>9</td>\n",
       "      <td>45</td>\n",
       "      <td>0</td>\n",
       "      <td>0</td>\n",
       "      <td>1</td>\n",
       "      <td>0</td>\n",
       "      <td>1</td>\n",
       "      <td>0</td>\n",
       "      <td>0</td>\n",
       "      <td>0</td>\n",
       "      <td>...</td>\n",
       "      <td>0</td>\n",
       "      <td>-0.112356</td>\n",
       "      <td>0.46161</td>\n",
       "      <td>-0.002151</td>\n",
       "      <td>-0.811596</td>\n",
       "      <td>-0.435061</td>\n",
       "      <td>0.399123</td>\n",
       "      <td>-0.819273</td>\n",
       "      <td>-0.508545</td>\n",
       "      <td>1</td>\n",
       "    </tr>\n",
       "    <tr>\n",
       "      <th>3</th>\n",
       "      <td>20</td>\n",
       "      <td>58</td>\n",
       "      <td>0</td>\n",
       "      <td>0</td>\n",
       "      <td>0</td>\n",
       "      <td>1</td>\n",
       "      <td>1</td>\n",
       "      <td>0</td>\n",
       "      <td>0</td>\n",
       "      <td>0</td>\n",
       "      <td>...</td>\n",
       "      <td>0</td>\n",
       "      <td>0.064959</td>\n",
       "      <td>0.46161</td>\n",
       "      <td>-1.512344</td>\n",
       "      <td>0.322148</td>\n",
       "      <td>-0.435061</td>\n",
       "      <td>1.600722</td>\n",
       "      <td>0.529756</td>\n",
       "      <td>-0.483361</td>\n",
       "      <td>1</td>\n",
       "    </tr>\n",
       "    <tr>\n",
       "      <th>4</th>\n",
       "      <td>21</td>\n",
       "      <td>35</td>\n",
       "      <td>0</td>\n",
       "      <td>1</td>\n",
       "      <td>0</td>\n",
       "      <td>0</td>\n",
       "      <td>1</td>\n",
       "      <td>0</td>\n",
       "      <td>0</td>\n",
       "      <td>0</td>\n",
       "      <td>...</td>\n",
       "      <td>0</td>\n",
       "      <td>1.839344</td>\n",
       "      <td>0.46161</td>\n",
       "      <td>2.413680</td>\n",
       "      <td>-0.170094</td>\n",
       "      <td>-0.435061</td>\n",
       "      <td>-0.565282</td>\n",
       "      <td>0.593416</td>\n",
       "      <td>-0.191371</td>\n",
       "      <td>0</td>\n",
       "    </tr>\n",
       "  </tbody>\n",
       "</table>\n",
       "<p>5 rows × 55 columns</p>\n",
       "</div>"
      ],
      "text/plain": [
       "   day  age  age_class_0  age_class_1  age_class_2  age_class_3  default_no  \\\n",
       "0   14   48            0            0            1            0           1   \n",
       "1   22   31            0            1            0            0           1   \n",
       "2    9   45            0            0            1            0           1   \n",
       "3   20   58            0            0            0            1           1   \n",
       "4   21   35            0            1            0            0           1   \n",
       "\n",
       "   default_yes  month_apr  month_aug  ...  poutcome_success  balance_log  \\\n",
       "0            0          0          0  ...                 0    -0.353943   \n",
       "1            0          0          1  ...                 0     3.367438   \n",
       "2            0          0          0  ...                 0    -0.112356   \n",
       "3            0          0          0  ...                 0     0.064959   \n",
       "4            0          0          0  ...                 0     1.839344   \n",
       "\n",
       "   pdays_log  duration_log  campaign_log  previous_log        c1        c2  \\\n",
       "0    0.46161      0.033731     -0.811596     -0.435061  0.669934 -0.213638   \n",
       "1    0.46161     -0.425208     -0.170094     -0.435061 -0.939981  0.705061   \n",
       "2    0.46161     -0.002151     -0.811596     -0.435061  0.399123 -0.819273   \n",
       "3    0.46161     -1.512344      0.322148     -0.435061  1.600722  0.529756   \n",
       "4    0.46161      2.413680     -0.170094     -0.435061 -0.565282  0.593416   \n",
       "\n",
       "         c3  y  \n",
       "0 -0.403107  1  \n",
       "1 -0.159961  1  \n",
       "2 -0.508545  1  \n",
       "3 -0.483361  1  \n",
       "4 -0.191371  0  \n",
       "\n",
       "[5 rows x 55 columns]"
      ]
     },
     "execution_count": 7,
     "metadata": {},
     "output_type": "execute_result"
    }
   ],
   "source": [
    "test_data.head()"
   ]
  },
  {
   "cell_type": "code",
   "execution_count": 8,
   "id": "0cf65500",
   "metadata": {},
   "outputs": [],
   "source": [
    "# Creating X,Y test and train data\n",
    "x_train = train_data[train_data.columns[:-1]]\n",
    "y_train = train_data[train_data.columns[-1]]\n",
    "x_test = test_data[test_data.columns[:-1]]\n",
    "y_test = test_data[test_data.columns[-1]]"
   ]
  },
  {
   "cell_type": "markdown",
   "id": "b5070f56",
   "metadata": {},
   "source": [
    "### Creating individual base classifiers"
   ]
  },
  {
   "cell_type": "code",
   "execution_count": 9,
   "id": "bcbcd49b",
   "metadata": {},
   "outputs": [],
   "source": [
    "random_forest = RandomForestClassifier(n_estimators=25, random_state=1)\n",
    "naive_bayes = GaussianNB()\n",
    "LR = LogisticRegression(C = 0.1, max_iter = 200, penalty = 'l1', solver = 'liblinear')\n",
    "NN = MLPClassifier(max_iter=1000, random_state=42)"
   ]
  },
  {
   "cell_type": "markdown",
   "id": "142c6d22",
   "metadata": {},
   "source": [
    "## Hard voting classifier\n",
    "\n",
    "### Hyperparameter tuning is done by tuning the parameters of individual models which have already been done in other ipynb files, so here another type of tuning is model selection. I have listed two combination of base models to fit into the hard voting mechanism to see the performance"
   ]
  },
  {
   "cell_type": "markdown",
   "id": "9e558b37",
   "metadata": {},
   "source": [
    "### Model Performance - Combination 1"
   ]
  },
  {
   "cell_type": "code",
   "execution_count": 10,
   "id": "8812c1aa",
   "metadata": {},
   "outputs": [],
   "source": [
    "# Soft voting classifier\n",
    "ensemble_classifier = VotingClassifier(estimators=[\n",
    "    ('Neural_Network', NN),\n",
    "    ('logistic_regression', LR),\n",
    "    ('naive_bayes',naive_bayes )\n",
    "], voting='hard')"
   ]
  },
  {
   "cell_type": "code",
   "execution_count": 11,
   "id": "c8ee8258",
   "metadata": {},
   "outputs": [],
   "source": [
    "ensemble_classifier = ensemble_classifier.fit(x_train, y_train)"
   ]
  },
  {
   "cell_type": "code",
   "execution_count": 12,
   "id": "8c116eff",
   "metadata": {},
   "outputs": [
    {
     "name": "stdout",
     "output_type": "stream",
     "text": [
      "Training accuracy: 0.923 (+/- 0.1246) [Neural_Network]\n",
      "Training accuracy: 0.931 (+/- 0.1244) [logistic_regression]\n",
      "Training accuracy: 0.894 (+/- 0.1128) [naive_bayes]\n",
      "Training accuracy: 0.929 (+/- 0.1281) [ensemble_classifier]\n",
      "Testing accuracy: 0.892 [Ensemble Classifier]\n"
     ]
    }
   ],
   "source": [
    "for clf, label in zip([NN, LR, naive_bayes, ensemble_classifier], \n",
    "                      ['Neural_Network', 'logistic_regression', 'naive_bayes', 'ensemble_classifier']):\n",
    "    scores = cross_val_score(clf, x_train, y_train, cv=10, scoring='accuracy')\n",
    "    print(\"Training accuracy: %0.3f (+/- %0.4f) [%s]\" % (scores.mean(), scores.std(),label))\n",
    "y_pred = ensemble_classifier.predict(x_test)\n",
    "accuracy = metrics.accuracy_score(y_test, y_pred)\n",
    "print('Testing accuracy: %0.3f [Ensemble Classifier]'% accuracy)"
   ]
  },
  {
   "cell_type": "code",
   "execution_count": 13,
   "id": "a0dee0b7",
   "metadata": {},
   "outputs": [
    {
     "name": "stdout",
     "output_type": "stream",
     "text": [
      "Testing Accuracy: 0.8922923808470641\n",
      "Confusion Matrix:\n",
      " [[ 581  477]\n",
      " [ 497 7488]]\n",
      "Classification Report:\n",
      "               precision    recall  f1-score   support\n",
      "\n",
      "           0       0.54      0.55      0.54      1058\n",
      "           1       0.94      0.94      0.94      7985\n",
      "\n",
      "    accuracy                           0.89      9043\n",
      "   macro avg       0.74      0.74      0.74      9043\n",
      "weighted avg       0.89      0.89      0.89      9043\n",
      "\n"
     ]
    },
    {
     "data": {
      "image/png": "[encoded data removed]",
      "text/plain": [
       "<Figure size 432x288 with 2 Axes>"
      ]
     },
     "metadata": {
      "needs_background": "light"
     },
     "output_type": "display_data"
    }
   ],
   "source": [
    "accuracy = accuracy_score(y_test, y_pred)\n",
    "confusion = metrics.confusion_matrix(y_test, y_pred)\n",
    "classification_rep = classification_report(y_test, y_pred)\n",
    "print(\"Testing Accuracy:\", accuracy)\n",
    "print(\"Confusion Matrix:\\n\", confusion)\n",
    "print(\"Classification Report:\\n\", classification_rep)\n",
    "cm_display = metrics.ConfusionMatrixDisplay(confusion_matrix = confusion, display_labels = [False, True])\n",
    "cm_display.plot()\n",
    "plt.show()"
   ]
  },
  {
   "cell_type": "markdown",
   "id": "9cb42401",
   "metadata": {},
   "source": [
    "### Model Performance - Combination 2"
   ]
  },
  {
   "cell_type": "code",
   "execution_count": 20,
   "id": "d6d55652",
   "metadata": {},
   "outputs": [],
   "source": [
    "# Soft voting classifier\n",
    "ensemble_classifier = VotingClassifier(estimators=[\n",
    "    ('random_forest', random_forest),\n",
    "    ('Logistic_Regression', LR),\n",
    "    ('naive_bayes',naive_bayes )\n",
    "], voting='hard')\n",
    "ensemble_classifier = ensemble_classifier.fit(x_train, y_train)"
   ]
  },
  {
   "cell_type": "code",
   "execution_count": 21,
   "id": "5b6abffb",
   "metadata": {},
   "outputs": [
    {
     "name": "stdout",
     "output_type": "stream",
     "text": [
      "Training accuracy: 0.934 (+/- 0.1091) [random_forest]\n",
      "Training accuracy: 0.931 (+/- 0.1244) [Logistic Regression]\n",
      "Training accuracy: 0.894 (+/- 0.1128) [naive_bayes]\n",
      "Training accuracy: 0.933 (+/- 0.1230) [ensemble_classifier]\n",
      "Testing accuracy: 0.896 [Ensemble Classifier]\n"
     ]
    }
   ],
   "source": [
    "for clf, label in zip([random_forest, LR, naive_bayes, ensemble_classifier], \n",
    "                      ['random_forest', 'Logistic Regression', 'naive_bayes', 'ensemble_classifier']):\n",
    "    scores = cross_val_score(clf, x_train, y_train, cv=10, scoring='accuracy')\n",
    "    print(\"Training accuracy: %0.3f (+/- %0.4f) [%s]\" % (scores.mean(), scores.std(),label))\n",
    "y_pred = ensemble_classifier.predict(x_test)\n",
    "accuracy = metrics.accuracy_score(y_test, y_pred)\n",
    "print('Testing accuracy: %0.3f [Ensemble Classifier]'% accuracy)"
   ]
  },
  {
   "cell_type": "code",
   "execution_count": 22,
   "id": "ddb6dddf",
   "metadata": {},
   "outputs": [
    {
     "name": "stdout",
     "output_type": "stream",
     "text": [
      "Testing Accuracy: 0.8959416122968041\n",
      "Confusion Matrix:\n",
      " [[ 520  538]\n",
      " [ 403 7582]]\n",
      "Classification Report:\n",
      "               precision    recall  f1-score   support\n",
      "\n",
      "           0       0.56      0.49      0.52      1058\n",
      "           1       0.93      0.95      0.94      7985\n",
      "\n",
      "    accuracy                           0.90      9043\n",
      "   macro avg       0.75      0.72      0.73      9043\n",
      "weighted avg       0.89      0.90      0.89      9043\n",
      "\n"
     ]
    },
    {
     "data": {
      "image/png": "[encoded data removed]",
      "text/plain": [
       "<Figure size 432x288 with 2 Axes>"
      ]
     },
     "metadata": {
      "needs_background": "light"
     },
     "output_type": "display_data"
    }
   ],
   "source": [
    "accuracy = accuracy_score(y_test, y_pred)\n",
    "confusion = metrics.confusion_matrix(y_test, y_pred)\n",
    "classification_rep = classification_report(y_test, y_pred)\n",
    "print(\"Testing Accuracy:\", accuracy)\n",
    "print(\"Confusion Matrix:\\n\", confusion)\n",
    "print(\"Classification Report:\\n\", classification_rep)\n",
    "cm_display = metrics.ConfusionMatrixDisplay(confusion_matrix = confusion, display_labels = [False, True])\n",
    "cm_display.plot()\n",
    "plt.show()"
   ]
  },
  {
   "cell_type": "markdown",
   "id": "76e5b320",
   "metadata": {},
   "source": [
    "### Feature Importance Assessment\n",
    "#### Similar result obtained for random forest assessment since logistic regression and naive bayes are not applicable for feature importance assessment"
   ]
  }
 ],
 "metadata": {
  "kernelspec": {
   "display_name": "Python 3 (ipykernel)",
   "language": "python",
   "name": "python3"
  },
  "language_info": {
   "codemirror_mode": {
    "name": "ipython",
    "version": 3
   },
   "file_extension": ".py",
   "mimetype": "text/x-python",
   "name": "python",
   "nbconvert_exporter": "python",
   "pygments_lexer": "ipython3",
   "version": "3.9.12"
  }
 },
 "nbformat": 4,
 "nbformat_minor": 5
}
