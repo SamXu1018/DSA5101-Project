{
 "cells": [
  {
   "cell_type": "code",
   "execution_count": 1,
   "id": "340c0a16",
   "metadata": {},
   "outputs": [],
   "source": [
    "### Import packages\n",
    "import pandas as pd\n",
    "import numpy as np\n",
    "import matplotlib. pyplot as plt\n",
    "import seaborn as sns  # Seaborn is a library for making statistical graphics in Python. \n",
    "# It is built on top of matplotlib and closely integrated with pandas data structures.\n",
    "from sklearn import tree\n",
    "from sklearn import metrics"
   ]
  },
  {
   "cell_type": "code",
   "execution_count": 65,
   "id": "6f04b093",
   "metadata": {},
   "outputs": [],
   "source": [
    "#load the csv file\n",
    "# train_data = pd.read_csv('train_data_after_preprocess.csv')\n",
    "# test_data = pd.read_csv('test_data_after_preprocess.csv')\n",
    "# train_data = pd.read_csv('train_data_preprocessed_v2.csv')\n",
    "# test_data = pd.read_csv('test_data_preprocessed_v2.csv')\n",
    "train_data = pd.read_csv('train_data_preprocessed_v3.csv')\n",
    "test_data = pd.read_csv('test_data_preprocessed_v3.csv')"
   ]
  },
  {
   "cell_type": "code",
   "execution_count": 66,
   "id": "d40904a6",
   "metadata": {},
   "outputs": [
    {
     "data": {
      "text/html": [
       "<div>\n",
       "<style scoped>\n",
       "    .dataframe tbody tr th:only-of-type {\n",
       "        vertical-align: middle;\n",
       "    }\n",
       "\n",
       "    .dataframe tbody tr th {\n",
       "        vertical-align: top;\n",
       "    }\n",
       "\n",
       "    .dataframe thead th {\n",
       "        text-align: right;\n",
       "    }\n",
       "</style>\n",
       "<table border=\"1\" class=\"dataframe\">\n",
       "  <thead>\n",
       "    <tr style=\"text-align: right;\">\n",
       "      <th></th>\n",
       "      <th>day</th>\n",
       "      <th>age</th>\n",
       "      <th>age_class_0</th>\n",
       "      <th>age_class_1</th>\n",
       "      <th>age_class_2</th>\n",
       "      <th>age_class_3</th>\n",
       "      <th>default_no</th>\n",
       "      <th>default_yes</th>\n",
       "      <th>month_apr</th>\n",
       "      <th>month_aug</th>\n",
       "      <th>...</th>\n",
       "      <th>poutcome_success</th>\n",
       "      <th>balance_log</th>\n",
       "      <th>pdays_log</th>\n",
       "      <th>duration_log</th>\n",
       "      <th>campaign_log</th>\n",
       "      <th>previous_log</th>\n",
       "      <th>c1</th>\n",
       "      <th>c2</th>\n",
       "      <th>c3</th>\n",
       "      <th>y</th>\n",
       "    </tr>\n",
       "  </thead>\n",
       "  <tbody>\n",
       "    <tr>\n",
       "      <th>0</th>\n",
       "      <td>29</td>\n",
       "      <td>42</td>\n",
       "      <td>0</td>\n",
       "      <td>0</td>\n",
       "      <td>1</td>\n",
       "      <td>0</td>\n",
       "      <td>1</td>\n",
       "      <td>0</td>\n",
       "      <td>0</td>\n",
       "      <td>0</td>\n",
       "      <td>...</td>\n",
       "      <td>0</td>\n",
       "      <td>-0.710220</td>\n",
       "      <td>0.556372</td>\n",
       "      <td>-1.832544</td>\n",
       "      <td>5.809419</td>\n",
       "      <td>-0.531878</td>\n",
       "      <td>0.087504</td>\n",
       "      <td>1.789912</td>\n",
       "      <td>-1.279360</td>\n",
       "      <td>1</td>\n",
       "    </tr>\n",
       "    <tr>\n",
       "      <th>1</th>\n",
       "      <td>15</td>\n",
       "      <td>50</td>\n",
       "      <td>0</td>\n",
       "      <td>0</td>\n",
       "      <td>1</td>\n",
       "      <td>0</td>\n",
       "      <td>1</td>\n",
       "      <td>0</td>\n",
       "      <td>0</td>\n",
       "      <td>0</td>\n",
       "      <td>...</td>\n",
       "      <td>0</td>\n",
       "      <td>-0.605846</td>\n",
       "      <td>0.556372</td>\n",
       "      <td>0.243524</td>\n",
       "      <td>-0.011872</td>\n",
       "      <td>-0.531878</td>\n",
       "      <td>0.840223</td>\n",
       "      <td>-0.015243</td>\n",
       "      <td>-0.665628</td>\n",
       "      <td>1</td>\n",
       "    </tr>\n",
       "    <tr>\n",
       "      <th>2</th>\n",
       "      <td>5</td>\n",
       "      <td>47</td>\n",
       "      <td>0</td>\n",
       "      <td>0</td>\n",
       "      <td>1</td>\n",
       "      <td>0</td>\n",
       "      <td>1</td>\n",
       "      <td>0</td>\n",
       "      <td>0</td>\n",
       "      <td>0</td>\n",
       "      <td>...</td>\n",
       "      <td>0</td>\n",
       "      <td>-0.440095</td>\n",
       "      <td>0.556372</td>\n",
       "      <td>-1.201884</td>\n",
       "      <td>3.516911</td>\n",
       "      <td>-0.531878</td>\n",
       "      <td>0.574884</td>\n",
       "      <td>-1.294733</td>\n",
       "      <td>-1.277750</td>\n",
       "      <td>1</td>\n",
       "    </tr>\n",
       "    <tr>\n",
       "      <th>3</th>\n",
       "      <td>16</td>\n",
       "      <td>39</td>\n",
       "      <td>0</td>\n",
       "      <td>1</td>\n",
       "      <td>0</td>\n",
       "      <td>0</td>\n",
       "      <td>1</td>\n",
       "      <td>0</td>\n",
       "      <td>0</td>\n",
       "      <td>0</td>\n",
       "      <td>...</td>\n",
       "      <td>0</td>\n",
       "      <td>-0.154512</td>\n",
       "      <td>0.556372</td>\n",
       "      <td>-1.240974</td>\n",
       "      <td>-0.724921</td>\n",
       "      <td>-0.531878</td>\n",
       "      <td>-0.177147</td>\n",
       "      <td>0.095431</td>\n",
       "      <td>-0.473078</td>\n",
       "      <td>1</td>\n",
       "    </tr>\n",
       "    <tr>\n",
       "      <th>4</th>\n",
       "      <td>30</td>\n",
       "      <td>30</td>\n",
       "      <td>1</td>\n",
       "      <td>0</td>\n",
       "      <td>0</td>\n",
       "      <td>0</td>\n",
       "      <td>1</td>\n",
       "      <td>0</td>\n",
       "      <td>1</td>\n",
       "      <td>0</td>\n",
       "      <td>...</td>\n",
       "      <td>0</td>\n",
       "      <td>-0.463407</td>\n",
       "      <td>0.556372</td>\n",
       "      <td>-0.033302</td>\n",
       "      <td>-0.011872</td>\n",
       "      <td>-0.531878</td>\n",
       "      <td>-1.022643</td>\n",
       "      <td>1.883206</td>\n",
       "      <td>-0.257505</td>\n",
       "      <td>0</td>\n",
       "    </tr>\n",
       "  </tbody>\n",
       "</table>\n",
       "<p>5 rows × 55 columns</p>\n",
       "</div>"
      ],
      "text/plain": [
       "   day  age  age_class_0  age_class_1  age_class_2  age_class_3  default_no  \\\n",
       "0   29   42            0            0            1            0           1   \n",
       "1   15   50            0            0            1            0           1   \n",
       "2    5   47            0            0            1            0           1   \n",
       "3   16   39            0            1            0            0           1   \n",
       "4   30   30            1            0            0            0           1   \n",
       "\n",
       "   default_yes  month_apr  month_aug  ...  poutcome_success  balance_log  \\\n",
       "0            0          0          0  ...                 0    -0.710220   \n",
       "1            0          0          0  ...                 0    -0.605846   \n",
       "2            0          0          0  ...                 0    -0.440095   \n",
       "3            0          0          0  ...                 0    -0.154512   \n",
       "4            0          1          0  ...                 0    -0.463407   \n",
       "\n",
       "   pdays_log  duration_log  campaign_log  previous_log        c1        c2  \\\n",
       "0   0.556372     -1.832544      5.809419     -0.531878  0.087504  1.789912   \n",
       "1   0.556372      0.243524     -0.011872     -0.531878  0.840223 -0.015243   \n",
       "2   0.556372     -1.201884      3.516911     -0.531878  0.574884 -1.294733   \n",
       "3   0.556372     -1.240974     -0.724921     -0.531878 -0.177147  0.095431   \n",
       "4   0.556372     -0.033302     -0.011872     -0.531878 -1.022643  1.883206   \n",
       "\n",
       "         c3  y  \n",
       "0 -1.279360  1  \n",
       "1 -0.665628  1  \n",
       "2 -1.277750  1  \n",
       "3 -0.473078  1  \n",
       "4 -0.257505  0  \n",
       "\n",
       "[5 rows x 55 columns]"
      ]
     },
     "execution_count": 66,
     "metadata": {},
     "output_type": "execute_result"
    }
   ],
   "source": [
    "train_data.head()"
   ]
  },
  {
   "cell_type": "code",
   "execution_count": 67,
   "id": "04f68eb2",
   "metadata": {},
   "outputs": [
    {
     "data": {
      "text/html": [
       "<div>\n",
       "<style scoped>\n",
       "    .dataframe tbody tr th:only-of-type {\n",
       "        vertical-align: middle;\n",
       "    }\n",
       "\n",
       "    .dataframe tbody tr th {\n",
       "        vertical-align: top;\n",
       "    }\n",
       "\n",
       "    .dataframe thead th {\n",
       "        text-align: right;\n",
       "    }\n",
       "</style>\n",
       "<table border=\"1\" class=\"dataframe\">\n",
       "  <thead>\n",
       "    <tr style=\"text-align: right;\">\n",
       "      <th></th>\n",
       "      <th>day</th>\n",
       "      <th>age</th>\n",
       "      <th>age_class_0</th>\n",
       "      <th>age_class_1</th>\n",
       "      <th>age_class_2</th>\n",
       "      <th>age_class_3</th>\n",
       "      <th>default_no</th>\n",
       "      <th>default_yes</th>\n",
       "      <th>month_apr</th>\n",
       "      <th>month_aug</th>\n",
       "      <th>...</th>\n",
       "      <th>poutcome_success</th>\n",
       "      <th>balance_log</th>\n",
       "      <th>pdays_log</th>\n",
       "      <th>duration_log</th>\n",
       "      <th>campaign_log</th>\n",
       "      <th>previous_log</th>\n",
       "      <th>c1</th>\n",
       "      <th>c2</th>\n",
       "      <th>c3</th>\n",
       "      <th>y</th>\n",
       "    </tr>\n",
       "  </thead>\n",
       "  <tbody>\n",
       "    <tr>\n",
       "      <th>0</th>\n",
       "      <td>14</td>\n",
       "      <td>48</td>\n",
       "      <td>0</td>\n",
       "      <td>0</td>\n",
       "      <td>1</td>\n",
       "      <td>0</td>\n",
       "      <td>1</td>\n",
       "      <td>0</td>\n",
       "      <td>0</td>\n",
       "      <td>0</td>\n",
       "      <td>...</td>\n",
       "      <td>0</td>\n",
       "      <td>-0.353943</td>\n",
       "      <td>0.46161</td>\n",
       "      <td>0.033731</td>\n",
       "      <td>-0.811596</td>\n",
       "      <td>-0.435061</td>\n",
       "      <td>0.669934</td>\n",
       "      <td>-0.213638</td>\n",
       "      <td>-0.403107</td>\n",
       "      <td>1</td>\n",
       "    </tr>\n",
       "    <tr>\n",
       "      <th>1</th>\n",
       "      <td>22</td>\n",
       "      <td>31</td>\n",
       "      <td>0</td>\n",
       "      <td>1</td>\n",
       "      <td>0</td>\n",
       "      <td>0</td>\n",
       "      <td>1</td>\n",
       "      <td>0</td>\n",
       "      <td>0</td>\n",
       "      <td>1</td>\n",
       "      <td>...</td>\n",
       "      <td>0</td>\n",
       "      <td>3.367438</td>\n",
       "      <td>0.46161</td>\n",
       "      <td>-0.425208</td>\n",
       "      <td>-0.170094</td>\n",
       "      <td>-0.435061</td>\n",
       "      <td>-0.939981</td>\n",
       "      <td>0.705061</td>\n",
       "      <td>-0.159961</td>\n",
       "      <td>1</td>\n",
       "    </tr>\n",
       "    <tr>\n",
       "      <th>2</th>\n",
       "      <td>9</td>\n",
       "      <td>45</td>\n",
       "      <td>0</td>\n",
       "      <td>0</td>\n",
       "      <td>1</td>\n",
       "      <td>0</td>\n",
       "      <td>1</td>\n",
       "      <td>0</td>\n",
       "      <td>0</td>\n",
       "      <td>0</td>\n",
       "      <td>...</td>\n",
       "      <td>0</td>\n",
       "      <td>-0.112356</td>\n",
       "      <td>0.46161</td>\n",
       "      <td>-0.002151</td>\n",
       "      <td>-0.811596</td>\n",
       "      <td>-0.435061</td>\n",
       "      <td>0.399123</td>\n",
       "      <td>-0.819273</td>\n",
       "      <td>-0.508545</td>\n",
       "      <td>1</td>\n",
       "    </tr>\n",
       "    <tr>\n",
       "      <th>3</th>\n",
       "      <td>20</td>\n",
       "      <td>58</td>\n",
       "      <td>0</td>\n",
       "      <td>0</td>\n",
       "      <td>0</td>\n",
       "      <td>1</td>\n",
       "      <td>1</td>\n",
       "      <td>0</td>\n",
       "      <td>0</td>\n",
       "      <td>0</td>\n",
       "      <td>...</td>\n",
       "      <td>0</td>\n",
       "      <td>0.064959</td>\n",
       "      <td>0.46161</td>\n",
       "      <td>-1.512344</td>\n",
       "      <td>0.322148</td>\n",
       "      <td>-0.435061</td>\n",
       "      <td>1.600722</td>\n",
       "      <td>0.529756</td>\n",
       "      <td>-0.483361</td>\n",
       "      <td>1</td>\n",
       "    </tr>\n",
       "    <tr>\n",
       "      <th>4</th>\n",
       "      <td>21</td>\n",
       "      <td>35</td>\n",
       "      <td>0</td>\n",
       "      <td>1</td>\n",
       "      <td>0</td>\n",
       "      <td>0</td>\n",
       "      <td>1</td>\n",
       "      <td>0</td>\n",
       "      <td>0</td>\n",
       "      <td>0</td>\n",
       "      <td>...</td>\n",
       "      <td>0</td>\n",
       "      <td>1.839344</td>\n",
       "      <td>0.46161</td>\n",
       "      <td>2.413680</td>\n",
       "      <td>-0.170094</td>\n",
       "      <td>-0.435061</td>\n",
       "      <td>-0.565282</td>\n",
       "      <td>0.593416</td>\n",
       "      <td>-0.191371</td>\n",
       "      <td>0</td>\n",
       "    </tr>\n",
       "  </tbody>\n",
       "</table>\n",
       "<p>5 rows × 55 columns</p>\n",
       "</div>"
      ],
      "text/plain": [
       "   day  age  age_class_0  age_class_1  age_class_2  age_class_3  default_no  \\\n",
       "0   14   48            0            0            1            0           1   \n",
       "1   22   31            0            1            0            0           1   \n",
       "2    9   45            0            0            1            0           1   \n",
       "3   20   58            0            0            0            1           1   \n",
       "4   21   35            0            1            0            0           1   \n",
       "\n",
       "   default_yes  month_apr  month_aug  ...  poutcome_success  balance_log  \\\n",
       "0            0          0          0  ...                 0    -0.353943   \n",
       "1            0          0          1  ...                 0     3.367438   \n",
       "2            0          0          0  ...                 0    -0.112356   \n",
       "3            0          0          0  ...                 0     0.064959   \n",
       "4            0          0          0  ...                 0     1.839344   \n",
       "\n",
       "   pdays_log  duration_log  campaign_log  previous_log        c1        c2  \\\n",
       "0    0.46161      0.033731     -0.811596     -0.435061  0.669934 -0.213638   \n",
       "1    0.46161     -0.425208     -0.170094     -0.435061 -0.939981  0.705061   \n",
       "2    0.46161     -0.002151     -0.811596     -0.435061  0.399123 -0.819273   \n",
       "3    0.46161     -1.512344      0.322148     -0.435061  1.600722  0.529756   \n",
       "4    0.46161      2.413680     -0.170094     -0.435061 -0.565282  0.593416   \n",
       "\n",
       "         c3  y  \n",
       "0 -0.403107  1  \n",
       "1 -0.159961  1  \n",
       "2 -0.508545  1  \n",
       "3 -0.483361  1  \n",
       "4 -0.191371  0  \n",
       "\n",
       "[5 rows x 55 columns]"
      ]
     },
     "execution_count": 67,
     "metadata": {},
     "output_type": "execute_result"
    }
   ],
   "source": [
    "test_data.head()"
   ]
  },
  {
   "cell_type": "code",
   "execution_count": 68,
   "id": "db51925a",
   "metadata": {},
   "outputs": [],
   "source": [
    "#creating X,Y train and test data\n",
    "x_train = train_data[train_data.columns[:-1]]\n",
    "y_train = train_data[train_data.columns[-1]]\n",
    "x_test = test_data[test_data.columns[:-1]]\n",
    "y_test = test_data[test_data.columns[-1]]"
   ]
  },
  {
   "cell_type": "code",
   "execution_count": 69,
   "id": "bf26126a",
   "metadata": {},
   "outputs": [
    {
     "data": {
      "text/plain": [
       "0    1\n",
       "1    1\n",
       "2    1\n",
       "3    1\n",
       "4    0\n",
       "Name: y, dtype: int64"
      ]
     },
     "execution_count": 69,
     "metadata": {},
     "output_type": "execute_result"
    }
   ],
   "source": [
    "y_train.head()"
   ]
  },
  {
   "cell_type": "code",
   "execution_count": 70,
   "id": "cc94295e",
   "metadata": {},
   "outputs": [],
   "source": [
    "### Checking Training Data and Testing Data dimensions\n",
    "count_train = np.unique(y_train, return_counts=True)  # np.unique: numpy, find the unique elements of an array\n",
    "count_test = np.unique(y_test, return_counts=True)"
   ]
  },
  {
   "cell_type": "code",
   "execution_count": 71,
   "id": "59bb13e9",
   "metadata": {},
   "outputs": [
    {
     "data": {
      "text/plain": [
       "(array([0, 1]), array([31937, 31937]))"
      ]
     },
     "execution_count": 71,
     "metadata": {},
     "output_type": "execute_result"
    }
   ],
   "source": [
    "count_train"
   ]
  },
  {
   "cell_type": "code",
   "execution_count": 72,
   "id": "3d253ac7",
   "metadata": {},
   "outputs": [
    {
     "data": {
      "text/plain": [
       "(array([0, 1]), array([1058, 7985]))"
      ]
     },
     "execution_count": 72,
     "metadata": {},
     "output_type": "execute_result"
    }
   ],
   "source": [
    "count_test"
   ]
  },
  {
   "cell_type": "code",
   "execution_count": 73,
   "id": "78994295",
   "metadata": {},
   "outputs": [],
   "source": [
    "### Import RandomForestClassifier (Please note that we are doing classification)\n",
    "from sklearn.ensemble import RandomForestClassifier\n",
    "### Instantiate random forest model, by specifying random_state to ensure reproducibility.  \n",
    "# Note we have built 10 tree, indicated by n_estimators, typically, we should build a few hundred trees\n",
    "rf = RandomForestClassifier (n_estimators=25, random_state=1, oob_score=True)"
   ]
  },
  {
   "cell_type": "markdown",
   "id": "f02358ef",
   "metadata": {},
   "source": [
    "__oob_score=True__ means that we would like to use oob_score to estimate the training accuracy.\n",
    "\n",
    "__Unused samples (Out of Bag sample)__ will be used to evaluate the performance of classifier \n",
    " (as they are not used in training anyway)\n",
    "\n",
    "**Next, we fit a Random Forest Model to the training data**"
   ]
  },
  {
   "cell_type": "code",
   "execution_count": 74,
   "id": "f13f0328",
   "metadata": {},
   "outputs": [
    {
     "name": "stdout",
     "output_type": "stream",
     "text": [
      "0.9423396060995084\n"
     ]
    }
   ],
   "source": [
    "# Fit the model on training data\n",
    "rf.fit(x_train, y_train)\n",
    "print(rf.oob_score_)\n",
    "# Out-of-bag accuracy prediction "
   ]
  },
  {
   "cell_type": "markdown",
   "id": "050038b3",
   "metadata": {},
   "source": [
    "### Model Evaluation"
   ]
  },
  {
   "cell_type": "markdown",
   "id": "7267abb9",
   "metadata": {},
   "source": [
    "**Training Performance**\n",
    "\n",
    "We can use oob_score to get the accuracy from unused training data.\n",
    "Next, we perform cross_validation to check the accuracy. Recall the meaning of cross validation in the previous lecture. In this example, we perform 10-fold cross-validation, which means we fit our model to 90% of the training data and use the remaining 10% for validation. Repeat this for 10 times and the reliable average score is reported."
   ]
  },
  {
   "cell_type": "code",
   "execution_count": 75,
   "id": "9b9dd5ec",
   "metadata": {},
   "outputs": [
    {
     "name": "stdout",
     "output_type": "stream",
     "text": [
      "OOB_SCORE= 0.9423\n",
      "[0.61 0.89 0.98 0.98 0.98 0.98 0.98 0.98 0.98 0.98]\n",
      "Ten-fold Cross Validation Score= 0.9340\n"
     ]
    }
   ],
   "source": [
    "### Import cross_val_score for cross_validation\n",
    "from sklearn.model_selection import cross_val_score\n",
    " \n",
    "np.set_printoptions(formatter={'float': lambda x: \"{0:0.2f}\".format(x)})\n",
    " \n",
    "print (\"OOB_SCORE=\", \"%.4f\" % rf.oob_score_)  # keep 4 decimal placce\n",
    "\n",
    "cv_score = cross_val_score(rf, x_train, y_train, cv=10)\n",
    "print(cv_score)\n",
    "print (\"Ten-fold Cross Validation Score=\", \"%.4f\" % np.mean(cv_score)) \n",
    "#average of 10 iterations"
   ]
  },
  {
   "cell_type": "markdown",
   "id": "d836ec56",
   "metadata": {},
   "source": [
    "It seems the results from OOB test and 10 fold CV are similar. This could somewhat suggest that our RF classifier is correct."
   ]
  },
  {
   "cell_type": "markdown",
   "id": "63c97eb9",
   "metadata": {},
   "source": [
    "**Testing Performance**\n",
    "\n",
    "The model performance on the training data (OOB and CV) is approximately 94%. We would like to check how the model performs when apply on new data (test data) which is not part of the training data. We can simply use the function \"score\" to get the test performance.\n",
    "\n",
    "Note that we have left out 30% of the dataset for testing. They are \"test_features\" with species label as \"test_labels\"."
   ]
  },
  {
   "cell_type": "code",
   "execution_count": 76,
   "id": "82354944",
   "metadata": {},
   "outputs": [
    {
     "name": "stdout",
     "output_type": "stream",
     "text": [
      "Testing Performance: 0.8679\n"
     ]
    }
   ],
   "source": [
    "### Get the prediction score\n",
    "test_score = rf.score(x_test, y_test) \n",
    "# including to use rf to predict test data test_features and \n",
    "# comparison with ground truth test_labels\n",
    "\n",
    "print (\"Testing Performance:\", \"%.4f\" % test_score)"
   ]
  },
  {
   "cell_type": "code",
   "execution_count": 77,
   "id": "7fa6e721",
   "metadata": {},
   "outputs": [
    {
     "name": "stdout",
     "output_type": "stream",
     "text": [
      "Predicted Labels: [0 1] = [1337 7706]\n"
     ]
    }
   ],
   "source": [
    "### Get the predicted labels\n",
    "y_pred = rf.predict(x_test)\n",
    "\n",
    "#We want to get how many examples in each class in test data\n",
    "count_prediction = np.unique(y_pred, return_counts=True)\n",
    "print('Predicted Labels:', count_prediction[0], \"=\", count_prediction[1])"
   ]
  },
  {
   "cell_type": "code",
   "execution_count": 78,
   "id": "922dfaa0",
   "metadata": {},
   "outputs": [
    {
     "data": {
      "image/png": "[encoded data removed]",
      "text/plain": [
       "<Figure size 640x480 with 2 Axes>"
      ]
     },
     "metadata": {},
     "output_type": "display_data"
    }
   ],
   "source": [
    "#Confusion Metrix\n",
    "confusion_matrix = metrics.confusion_matrix(y_test, y_pred)\n",
    "\n",
    "cm_display = metrics.ConfusionMatrixDisplay(confusion_matrix = confusion_matrix, display_labels = [False, True])\n",
    "cm_display.plot()\n",
    "plt.show()"
   ]
  },
  {
   "cell_type": "code",
   "execution_count": 79,
   "id": "19e65611",
   "metadata": {},
   "outputs": [
    {
     "name": "stdout",
     "output_type": "stream",
     "text": [
      "[[ 600  458]\n",
      " [ 737 7248]]\n",
      "              precision    recall  f1-score   support\n",
      "\n",
      "           0       0.45      0.57      0.50      1058\n",
      "           1       0.94      0.91      0.92      7985\n",
      "\n",
      "    accuracy                           0.87      9043\n",
      "   macro avg       0.69      0.74      0.71      9043\n",
      "weighted avg       0.88      0.87      0.87      9043\n",
      "\n"
     ]
    }
   ],
   "source": [
    "# Metrics evaluation\n",
    "from sklearn.metrics import classification_report, confusion_matrix\n",
    "print(confusion_matrix(y_test, y_pred))\n",
    "print(classification_report(y_test, y_pred))"
   ]
  },
  {
   "cell_type": "markdown",
   "id": "40b1babb",
   "metadata": {},
   "source": [
    "### Feature Importance"
   ]
  },
  {
   "cell_type": "code",
   "execution_count": 80,
   "id": "4da8f3c2",
   "metadata": {},
   "outputs": [
    {
     "data": {
      "image/png": "[encoded data removed]",
      "text/plain": [
       "<Figure size 1000x500 with 1 Axes>"
      ]
     },
     "metadata": {},
     "output_type": "display_data"
    }
   ],
   "source": [
    "importances = rf.feature_importances_\n",
    "\n",
    "# Sort feature importances in descending order\n",
    "indices = np.argsort(importances)[::-1]\n",
    "\n",
    "# Rearrange feature names so they match the sorted feature importances\n",
    "names = [x_train.columns[i] for i in indices]\n",
    "\n",
    "# Plot\n",
    "plt.figure(figsize=(10, 5))\n",
    "plt.title(\"Feature Importance\")\n",
    "plt.bar(range(x_train.shape[1]), importances[indices])\n",
    "plt.xticks(range(x_train.shape[1]), names, rotation=90)\n",
    "plt.show()"
   ]
  },
  {
   "cell_type": "code",
   "execution_count": 101,
   "id": "76b25985",
   "metadata": {},
   "outputs": [],
   "source": [
    "#creating X,Y train and test data\n",
    "x_train_1 = x_train.drop(columns=['default_no', 'month_dec', 'default_yes', 'month_sep',\\\n",
    "                                 'job_student', 'job_housemaid', 'month_mar', 'job_retired',\\\n",
    "                                 'job_entrepreneur', 'job_self-employed'])\n",
    "x_test_1 = x_test.drop(columns=['default_no', 'month_dec', 'default_yes', 'month_sep',\\\n",
    "                               'job_student', 'job_housemaid', 'month_mar', 'job_retired',\\\n",
    "                               'job_entrepreneur', 'job_self-employed'])"
   ]
  },
  {
   "cell_type": "code",
   "execution_count": 102,
   "id": "d7cef8a5",
   "metadata": {},
   "outputs": [
    {
     "name": "stdout",
     "output_type": "stream",
     "text": [
      "0.9417916523154961\n"
     ]
    }
   ],
   "source": [
    "# Fit the model on training data\n",
    "rf1 = RandomForestClassifier (n_estimators=25, random_state=1, oob_score=True)\n",
    "rf1.fit(x_train_1, y_train)\n",
    "print(rf1.oob_score_)\n",
    "# Out-of-bag accuracy prediction "
   ]
  },
  {
   "cell_type": "code",
   "execution_count": 103,
   "id": "10fca128",
   "metadata": {},
   "outputs": [
    {
     "name": "stdout",
     "output_type": "stream",
     "text": [
      "OOB_SCORE= 0.9418\n",
      "[0.62 0.89 0.98 0.98 0.98 0.98 0.98 0.98 0.98 0.98]\n",
      "Ten-fold Cross Validation Score= 0.9350\n"
     ]
    }
   ],
   "source": [
    "np.set_printoptions(formatter={'float': lambda x: \"{0:0.2f}\".format(x)})\n",
    " \n",
    "print (\"OOB_SCORE=\", \"%.4f\" % rf1.oob_score_)  # keep 4 decimal placce\n",
    "\n",
    "cv_score = cross_val_score(rf1, x_train_1, y_train, cv=10)\n",
    "print(cv_score)\n",
    "print (\"Ten-fold Cross Validation Score=\", \"%.4f\" % np.mean(cv_score)) \n",
    "#average of 10 iterations"
   ]
  },
  {
   "cell_type": "code",
   "execution_count": 104,
   "id": "7b35f552",
   "metadata": {},
   "outputs": [
    {
     "name": "stdout",
     "output_type": "stream",
     "text": [
      "Testing Performance: 0.8683\n"
     ]
    }
   ],
   "source": [
    "### Get the prediction score\n",
    "test_score = rf1.score(x_test_1, y_test) \n",
    "# including to use rf to predict test data test_features and \n",
    "# comparison with ground truth test_labels\n",
    "\n",
    "print (\"Testing Performance:\", \"%.4f\" % test_score)\n",
    "\n",
    "# 0.8750 month_mar"
   ]
  },
  {
   "cell_type": "code",
   "execution_count": 105,
   "id": "0437de53",
   "metadata": {},
   "outputs": [
    {
     "name": "stdout",
     "output_type": "stream",
     "text": [
      "Predicted Labels: [0 1] = [1427 7616]\n"
     ]
    },
    {
     "data": {
      "image/png": "[encoded data removed]",
      "text/plain": [
       "<Figure size 640x480 with 2 Axes>"
      ]
     },
     "metadata": {},
     "output_type": "display_data"
    }
   ],
   "source": [
    "### Get the predicted labels\n",
    "y_pred = rf1.predict(x_test_1)\n",
    "\n",
    "#We want to get how many examples in each class in test data\n",
    "count_prediction = np.unique(y_pred, return_counts=True)\n",
    "print('Predicted Labels:', count_prediction[0], \"=\", count_prediction[1])\n",
    "\n",
    "#Confusion Metrix\n",
    "confusion_matrix = metrics.confusion_matrix(y_test, y_pred)\n",
    "\n",
    "cm_display = metrics.ConfusionMatrixDisplay(confusion_matrix = confusion_matrix, display_labels = [False, True])\n",
    "cm_display.plot()\n",
    "plt.show()"
   ]
  },
  {
   "cell_type": "code",
   "execution_count": null,
   "id": "d9296796",
   "metadata": {},
   "outputs": [],
   "source": []
  }
 ],
 "metadata": {
  "kernelspec": {
   "display_name": "Python 3 (ipykernel)",
   "language": "python",
   "name": "python3"
  },
  "language_info": {
   "codemirror_mode": {
    "name": "ipython",
    "version": 3
   },
   "file_extension": ".py",
   "mimetype": "text/x-python",
   "name": "python",
   "nbconvert_exporter": "python",
   "pygments_lexer": "ipython3",
   "version": "3.11.4"
  }
 },
 "nbformat": 4,
 "nbformat_minor": 5
}
