{
 "cells": [
  {
   "cell_type": "code",
   "execution_count": 17,
   "id": "340c0a16",
   "metadata": {},
   "outputs": [],
   "source": [
    "### Import packages\n",
    "import pandas as pd\n",
    "import numpy as np\n",
    "import seaborn as sns  # Seaborn is a library for making statistical graphics in Python. \n",
    "# It is built on top of matplotlib and closely integrated with pandas data structures.\n",
    "from sklearn import tree\n",
    "from sklearn import metrics"
   ]
  },
  {
   "cell_type": "code",
   "execution_count": 3,
   "id": "6f04b093",
   "metadata": {},
   "outputs": [],
   "source": [
    "#load the csv file\n",
    "train_data = pd.read_csv('train_data_after_preprocess.csv')\n",
    "test_data = pd.read_csv('test_data_after_preprocess.csv')"
   ]
  },
  {
   "cell_type": "code",
   "execution_count": 4,
   "id": "d40904a6",
   "metadata": {},
   "outputs": [
    {
     "data": {
      "text/html": [
       "<div>\n",
       "<style scoped>\n",
       "    .dataframe tbody tr th:only-of-type {\n",
       "        vertical-align: middle;\n",
       "    }\n",
       "\n",
       "    .dataframe tbody tr th {\n",
       "        vertical-align: top;\n",
       "    }\n",
       "\n",
       "    .dataframe thead th {\n",
       "        text-align: right;\n",
       "    }\n",
       "</style>\n",
       "<table border=\"1\" class=\"dataframe\">\n",
       "  <thead>\n",
       "    <tr style=\"text-align: right;\">\n",
       "      <th></th>\n",
       "      <th>housing</th>\n",
       "      <th>loan</th>\n",
       "      <th>default</th>\n",
       "      <th>age_1</th>\n",
       "      <th>age_2</th>\n",
       "      <th>age_3</th>\n",
       "      <th>marital_married</th>\n",
       "      <th>marital_single</th>\n",
       "      <th>job_blue-collar</th>\n",
       "      <th>job_entrepreneur</th>\n",
       "      <th>...</th>\n",
       "      <th>education_tertiary</th>\n",
       "      <th>contact_telephone</th>\n",
       "      <th>poutcome_other</th>\n",
       "      <th>poutcome_success</th>\n",
       "      <th>balance_log</th>\n",
       "      <th>pdays_log</th>\n",
       "      <th>duration_log</th>\n",
       "      <th>campaign_log</th>\n",
       "      <th>previous_log</th>\n",
       "      <th>y</th>\n",
       "    </tr>\n",
       "  </thead>\n",
       "  <tbody>\n",
       "    <tr>\n",
       "      <th>0</th>\n",
       "      <td>1</td>\n",
       "      <td>1</td>\n",
       "      <td>0</td>\n",
       "      <td>0</td>\n",
       "      <td>1</td>\n",
       "      <td>0</td>\n",
       "      <td>0</td>\n",
       "      <td>0</td>\n",
       "      <td>0</td>\n",
       "      <td>0</td>\n",
       "      <td>...</td>\n",
       "      <td>0</td>\n",
       "      <td>0</td>\n",
       "      <td>1</td>\n",
       "      <td>0</td>\n",
       "      <td>-0.645275</td>\n",
       "      <td>0.45035</td>\n",
       "      <td>-1.728912</td>\n",
       "      <td>4.961712</td>\n",
       "      <td>-0.420772</td>\n",
       "      <td>0</td>\n",
       "    </tr>\n",
       "    <tr>\n",
       "      <th>1</th>\n",
       "      <td>1</td>\n",
       "      <td>0</td>\n",
       "      <td>0</td>\n",
       "      <td>0</td>\n",
       "      <td>1</td>\n",
       "      <td>0</td>\n",
       "      <td>1</td>\n",
       "      <td>0</td>\n",
       "      <td>0</td>\n",
       "      <td>0</td>\n",
       "      <td>...</td>\n",
       "      <td>1</td>\n",
       "      <td>1</td>\n",
       "      <td>0</td>\n",
       "      <td>0</td>\n",
       "      <td>-0.538652</td>\n",
       "      <td>0.45035</td>\n",
       "      <td>0.762074</td>\n",
       "      <td>-0.173538</td>\n",
       "      <td>-0.420772</td>\n",
       "      <td>0</td>\n",
       "    </tr>\n",
       "    <tr>\n",
       "      <th>2</th>\n",
       "      <td>1</td>\n",
       "      <td>0</td>\n",
       "      <td>0</td>\n",
       "      <td>0</td>\n",
       "      <td>1</td>\n",
       "      <td>0</td>\n",
       "      <td>1</td>\n",
       "      <td>0</td>\n",
       "      <td>0</td>\n",
       "      <td>0</td>\n",
       "      <td>...</td>\n",
       "      <td>0</td>\n",
       "      <td>0</td>\n",
       "      <td>1</td>\n",
       "      <td>0</td>\n",
       "      <td>-0.369329</td>\n",
       "      <td>0.45035</td>\n",
       "      <td>-0.972209</td>\n",
       "      <td>2.939376</td>\n",
       "      <td>-0.420772</td>\n",
       "      <td>0</td>\n",
       "    </tr>\n",
       "    <tr>\n",
       "      <th>3</th>\n",
       "      <td>1</td>\n",
       "      <td>0</td>\n",
       "      <td>0</td>\n",
       "      <td>1</td>\n",
       "      <td>0</td>\n",
       "      <td>0</td>\n",
       "      <td>0</td>\n",
       "      <td>0</td>\n",
       "      <td>0</td>\n",
       "      <td>0</td>\n",
       "      <td>...</td>\n",
       "      <td>0</td>\n",
       "      <td>0</td>\n",
       "      <td>1</td>\n",
       "      <td>0</td>\n",
       "      <td>-0.077591</td>\n",
       "      <td>0.45035</td>\n",
       "      <td>-1.019112</td>\n",
       "      <td>-0.802554</td>\n",
       "      <td>-0.420772</td>\n",
       "      <td>0</td>\n",
       "    </tr>\n",
       "    <tr>\n",
       "      <th>4</th>\n",
       "      <td>0</td>\n",
       "      <td>0</td>\n",
       "      <td>0</td>\n",
       "      <td>0</td>\n",
       "      <td>0</td>\n",
       "      <td>0</td>\n",
       "      <td>0</td>\n",
       "      <td>1</td>\n",
       "      <td>0</td>\n",
       "      <td>0</td>\n",
       "      <td>...</td>\n",
       "      <td>1</td>\n",
       "      <td>0</td>\n",
       "      <td>1</td>\n",
       "      <td>0</td>\n",
       "      <td>-0.393144</td>\n",
       "      <td>0.45035</td>\n",
       "      <td>0.429922</td>\n",
       "      <td>-0.173538</td>\n",
       "      <td>-0.420772</td>\n",
       "      <td>1</td>\n",
       "    </tr>\n",
       "  </tbody>\n",
       "</table>\n",
       "<p>5 rows × 29 columns</p>\n",
       "</div>"
      ],
      "text/plain": [
       "   housing  loan  default  age_1  age_2  age_3  marital_married  \\\n",
       "0        1     1        0      0      1      0                0   \n",
       "1        1     0        0      0      1      0                1   \n",
       "2        1     0        0      0      1      0                1   \n",
       "3        1     0        0      1      0      0                0   \n",
       "4        0     0        0      0      0      0                0   \n",
       "\n",
       "   marital_single  job_blue-collar  job_entrepreneur  ...  education_tertiary  \\\n",
       "0               0                0                 0  ...                   0   \n",
       "1               0                0                 0  ...                   1   \n",
       "2               0                0                 0  ...                   0   \n",
       "3               0                0                 0  ...                   0   \n",
       "4               1                0                 0  ...                   1   \n",
       "\n",
       "   contact_telephone  poutcome_other  poutcome_success  balance_log  \\\n",
       "0                  0               1                 0    -0.645275   \n",
       "1                  1               0                 0    -0.538652   \n",
       "2                  0               1                 0    -0.369329   \n",
       "3                  0               1                 0    -0.077591   \n",
       "4                  0               1                 0    -0.393144   \n",
       "\n",
       "   pdays_log  duration_log  campaign_log  previous_log  y  \n",
       "0    0.45035     -1.728912      4.961712     -0.420772  0  \n",
       "1    0.45035      0.762074     -0.173538     -0.420772  0  \n",
       "2    0.45035     -0.972209      2.939376     -0.420772  0  \n",
       "3    0.45035     -1.019112     -0.802554     -0.420772  0  \n",
       "4    0.45035      0.429922     -0.173538     -0.420772  1  \n",
       "\n",
       "[5 rows x 29 columns]"
      ]
     },
     "execution_count": 4,
     "metadata": {},
     "output_type": "execute_result"
    }
   ],
   "source": [
    "train_data.head()"
   ]
  },
  {
   "cell_type": "code",
   "execution_count": 5,
   "id": "04f68eb2",
   "metadata": {},
   "outputs": [
    {
     "data": {
      "text/html": [
       "<div>\n",
       "<style scoped>\n",
       "    .dataframe tbody tr th:only-of-type {\n",
       "        vertical-align: middle;\n",
       "    }\n",
       "\n",
       "    .dataframe tbody tr th {\n",
       "        vertical-align: top;\n",
       "    }\n",
       "\n",
       "    .dataframe thead th {\n",
       "        text-align: right;\n",
       "    }\n",
       "</style>\n",
       "<table border=\"1\" class=\"dataframe\">\n",
       "  <thead>\n",
       "    <tr style=\"text-align: right;\">\n",
       "      <th></th>\n",
       "      <th>housing</th>\n",
       "      <th>loan</th>\n",
       "      <th>default</th>\n",
       "      <th>age_1</th>\n",
       "      <th>age_2</th>\n",
       "      <th>age_3</th>\n",
       "      <th>marital_married</th>\n",
       "      <th>marital_single</th>\n",
       "      <th>job_blue-collar</th>\n",
       "      <th>job_entrepreneur</th>\n",
       "      <th>...</th>\n",
       "      <th>education_tertiary</th>\n",
       "      <th>contact_telephone</th>\n",
       "      <th>poutcome_other</th>\n",
       "      <th>poutcome_success</th>\n",
       "      <th>balance_log</th>\n",
       "      <th>pdays_log</th>\n",
       "      <th>duration_log</th>\n",
       "      <th>campaign_log</th>\n",
       "      <th>previous_log</th>\n",
       "      <th>y</th>\n",
       "    </tr>\n",
       "  </thead>\n",
       "  <tbody>\n",
       "    <tr>\n",
       "      <th>0</th>\n",
       "      <td>1</td>\n",
       "      <td>0</td>\n",
       "      <td>0</td>\n",
       "      <td>0</td>\n",
       "      <td>1</td>\n",
       "      <td>0</td>\n",
       "      <td>1</td>\n",
       "      <td>0</td>\n",
       "      <td>0</td>\n",
       "      <td>0</td>\n",
       "      <td>...</td>\n",
       "      <td>1</td>\n",
       "      <td>1</td>\n",
       "      <td>0</td>\n",
       "      <td>0</td>\n",
       "      <td>-0.353943</td>\n",
       "      <td>0.46161</td>\n",
       "      <td>0.033731</td>\n",
       "      <td>-0.811596</td>\n",
       "      <td>-0.435061</td>\n",
       "      <td>0</td>\n",
       "    </tr>\n",
       "    <tr>\n",
       "      <th>1</th>\n",
       "      <td>0</td>\n",
       "      <td>0</td>\n",
       "      <td>0</td>\n",
       "      <td>1</td>\n",
       "      <td>0</td>\n",
       "      <td>0</td>\n",
       "      <td>0</td>\n",
       "      <td>1</td>\n",
       "      <td>0</td>\n",
       "      <td>0</td>\n",
       "      <td>...</td>\n",
       "      <td>1</td>\n",
       "      <td>0</td>\n",
       "      <td>0</td>\n",
       "      <td>0</td>\n",
       "      <td>3.367438</td>\n",
       "      <td>0.46161</td>\n",
       "      <td>-0.425208</td>\n",
       "      <td>-0.170094</td>\n",
       "      <td>-0.435061</td>\n",
       "      <td>0</td>\n",
       "    </tr>\n",
       "    <tr>\n",
       "      <th>2</th>\n",
       "      <td>1</td>\n",
       "      <td>0</td>\n",
       "      <td>0</td>\n",
       "      <td>0</td>\n",
       "      <td>1</td>\n",
       "      <td>0</td>\n",
       "      <td>1</td>\n",
       "      <td>0</td>\n",
       "      <td>1</td>\n",
       "      <td>0</td>\n",
       "      <td>...</td>\n",
       "      <td>0</td>\n",
       "      <td>0</td>\n",
       "      <td>0</td>\n",
       "      <td>0</td>\n",
       "      <td>-0.112356</td>\n",
       "      <td>0.46161</td>\n",
       "      <td>-0.002151</td>\n",
       "      <td>-0.811596</td>\n",
       "      <td>-0.435061</td>\n",
       "      <td>0</td>\n",
       "    </tr>\n",
       "    <tr>\n",
       "      <th>3</th>\n",
       "      <td>0</td>\n",
       "      <td>0</td>\n",
       "      <td>0</td>\n",
       "      <td>0</td>\n",
       "      <td>0</td>\n",
       "      <td>1</td>\n",
       "      <td>1</td>\n",
       "      <td>0</td>\n",
       "      <td>1</td>\n",
       "      <td>0</td>\n",
       "      <td>...</td>\n",
       "      <td>0</td>\n",
       "      <td>1</td>\n",
       "      <td>0</td>\n",
       "      <td>0</td>\n",
       "      <td>0.064959</td>\n",
       "      <td>0.46161</td>\n",
       "      <td>-1.512344</td>\n",
       "      <td>0.322148</td>\n",
       "      <td>-0.435061</td>\n",
       "      <td>0</td>\n",
       "    </tr>\n",
       "    <tr>\n",
       "      <th>4</th>\n",
       "      <td>0</td>\n",
       "      <td>0</td>\n",
       "      <td>0</td>\n",
       "      <td>1</td>\n",
       "      <td>0</td>\n",
       "      <td>0</td>\n",
       "      <td>0</td>\n",
       "      <td>1</td>\n",
       "      <td>0</td>\n",
       "      <td>0</td>\n",
       "      <td>...</td>\n",
       "      <td>1</td>\n",
       "      <td>0</td>\n",
       "      <td>1</td>\n",
       "      <td>0</td>\n",
       "      <td>1.839344</td>\n",
       "      <td>0.46161</td>\n",
       "      <td>2.413680</td>\n",
       "      <td>-0.170094</td>\n",
       "      <td>-0.435061</td>\n",
       "      <td>1</td>\n",
       "    </tr>\n",
       "  </tbody>\n",
       "</table>\n",
       "<p>5 rows × 29 columns</p>\n",
       "</div>"
      ],
      "text/plain": [
       "   housing  loan  default  age_1  age_2  age_3  marital_married  \\\n",
       "0        1     0        0      0      1      0                1   \n",
       "1        0     0        0      1      0      0                0   \n",
       "2        1     0        0      0      1      0                1   \n",
       "3        0     0        0      0      0      1                1   \n",
       "4        0     0        0      1      0      0                0   \n",
       "\n",
       "   marital_single  job_blue-collar  job_entrepreneur  ...  education_tertiary  \\\n",
       "0               0                0                 0  ...                   1   \n",
       "1               1                0                 0  ...                   1   \n",
       "2               0                1                 0  ...                   0   \n",
       "3               0                1                 0  ...                   0   \n",
       "4               1                0                 0  ...                   1   \n",
       "\n",
       "   contact_telephone  poutcome_other  poutcome_success  balance_log  \\\n",
       "0                  1               0                 0    -0.353943   \n",
       "1                  0               0                 0     3.367438   \n",
       "2                  0               0                 0    -0.112356   \n",
       "3                  1               0                 0     0.064959   \n",
       "4                  0               1                 0     1.839344   \n",
       "\n",
       "   pdays_log  duration_log  campaign_log  previous_log  y  \n",
       "0    0.46161      0.033731     -0.811596     -0.435061  0  \n",
       "1    0.46161     -0.425208     -0.170094     -0.435061  0  \n",
       "2    0.46161     -0.002151     -0.811596     -0.435061  0  \n",
       "3    0.46161     -1.512344      0.322148     -0.435061  0  \n",
       "4    0.46161      2.413680     -0.170094     -0.435061  1  \n",
       "\n",
       "[5 rows x 29 columns]"
      ]
     },
     "execution_count": 5,
     "metadata": {},
     "output_type": "execute_result"
    }
   ],
   "source": [
    "test_data.head()"
   ]
  },
  {
   "cell_type": "code",
   "execution_count": 6,
   "id": "db51925a",
   "metadata": {},
   "outputs": [],
   "source": [
    "#creating X,Y train and test data\n",
    "x_train = train_data[train_data.columns[:-1]]\n",
    "y_train = train_data[train_data.columns[-1]]\n",
    "x_test = test_data[test_data.columns[:-1]]\n",
    "y_test = test_data[test_data.columns[-1]]"
   ]
  },
  {
   "cell_type": "code",
   "execution_count": 7,
   "id": "bf26126a",
   "metadata": {},
   "outputs": [
    {
     "data": {
      "text/plain": [
       "0    0\n",
       "1    0\n",
       "2    0\n",
       "3    0\n",
       "4    1\n",
       "Name: y, dtype: int64"
      ]
     },
     "execution_count": 7,
     "metadata": {},
     "output_type": "execute_result"
    }
   ],
   "source": [
    "y_train.head()"
   ]
  },
  {
   "cell_type": "code",
   "execution_count": 8,
   "id": "cc94295e",
   "metadata": {},
   "outputs": [],
   "source": [
    "### Checking Training Data and Testing Data dimensions\n",
    "count_train = np.unique(y_train, return_counts=True)  # np.unique: numpy, find the unique elements of an array\n",
    "count_test = np.unique(y_test, return_counts=True)"
   ]
  },
  {
   "cell_type": "code",
   "execution_count": 9,
   "id": "59bb13e9",
   "metadata": {},
   "outputs": [
    {
     "data": {
      "text/plain": [
       "(array([0, 1]), array([31937, 31937]))"
      ]
     },
     "execution_count": 9,
     "metadata": {},
     "output_type": "execute_result"
    }
   ],
   "source": [
    "count_train"
   ]
  },
  {
   "cell_type": "code",
   "execution_count": 10,
   "id": "3d253ac7",
   "metadata": {},
   "outputs": [
    {
     "data": {
      "text/plain": [
       "(array([0, 1]), array([7985, 1058]))"
      ]
     },
     "execution_count": 10,
     "metadata": {},
     "output_type": "execute_result"
    }
   ],
   "source": [
    "count_test"
   ]
  },
  {
   "cell_type": "code",
   "execution_count": 11,
   "id": "78994295",
   "metadata": {},
   "outputs": [],
   "source": [
    "### Import RandomForestClassifier (Please note that we are doing classification)\n",
    "from sklearn.ensemble import RandomForestClassifier\n",
    "### Instantiate random forest model, by specifying random_state to ensure reproducibility.  \n",
    "# Note we have built 10 tree, indicated by n_estimators, typically, we should build a few hundred trees\n",
    "rf = RandomForestClassifier (n_estimators=25, random_state=1, oob_score=True)"
   ]
  },
  {
   "cell_type": "markdown",
   "id": "f02358ef",
   "metadata": {},
   "source": [
    "__oob_score=True__ means that we would like to use oob_score to estimate the training accuracy.\n",
    "\n",
    "__Unused samples (Out of Bag sample)__ will be used to evaluate the performance of classifier \n",
    " (as they are not used in training anyway)\n",
    "\n",
    "**Next, we fit a Random Forest Model to the training data**"
   ]
  },
  {
   "cell_type": "code",
   "execution_count": 12,
   "id": "f13f0328",
   "metadata": {},
   "outputs": [
    {
     "name": "stdout",
     "output_type": "stream",
     "text": [
      "0.9142530607132793\n"
     ]
    }
   ],
   "source": [
    "# Fit the model on training data\n",
    "rf.fit(x_train, y_train)\n",
    "print(rf.oob_score_)\n",
    "# Out-of-bag accuracy prediction "
   ]
  },
  {
   "cell_type": "markdown",
   "id": "050038b3",
   "metadata": {},
   "source": [
    "### Model Evaluation"
   ]
  },
  {
   "cell_type": "markdown",
   "id": "7267abb9",
   "metadata": {},
   "source": [
    "**Training Performance**\n",
    "\n",
    "We can use oob_score to get the accuracy from unused training data.\n",
    "Next, we perform cross_validation to check the accuracy. Recall the meaning of cross validation in the previous lecture. In this example, we perform 10-fold cross-validation, which means we fit our model to 90% of the training data and use the remaining 10% for validation. Repeat this for 10 times and the reliable average score is reported."
   ]
  },
  {
   "cell_type": "code",
   "execution_count": 13,
   "id": "9b9dd5ec",
   "metadata": {},
   "outputs": [
    {
     "name": "stdout",
     "output_type": "stream",
     "text": [
      "OOB_SCORE= 0.9143\n",
      "[0.85 0.91 0.93 0.93 0.93 0.93 0.93 0.93 0.94 0.93]\n",
      "Ten-fold Cross Validation Score= 0.9208\n"
     ]
    }
   ],
   "source": [
    "### Import cross_val_score for cross_validation\n",
    "from sklearn.model_selection import cross_val_score\n",
    " \n",
    "np.set_printoptions(formatter={'float': lambda x: \"{0:0.2f}\".format(x)})\n",
    " \n",
    "print (\"OOB_SCORE=\", \"%.4f\" % rf.oob_score_)  # keep 4 decimal placce\n",
    "\n",
    "cv_score = cross_val_score(rf, x_train, y_train, cv=10)\n",
    "print(cv_score)\n",
    "print (\"Ten-fold Cross Validation Score=\", \"%.4f\" % np.mean(cv_score)) \n",
    "#average of 10 iterations"
   ]
  },
  {
   "cell_type": "markdown",
   "id": "d836ec56",
   "metadata": {},
   "source": [
    "It seems the results from OOB test and 10 fold CV are similar. This could somewhat suggest that our RF classifier is correct."
   ]
  },
  {
   "cell_type": "markdown",
   "id": "63c97eb9",
   "metadata": {},
   "source": [
    "**Testing Performance**\n",
    "\n",
    "The model performance on the training data (OOB and CV) is approximately 94%. We would like to check how the model performs when apply on new data (test data) which is not part of the training data. We can simply use the function \"score\" to get the test performance.\n",
    "\n",
    "Note that we have left out 30% of the dataset for testing. They are \"test_features\" with species label as \"test_labels\"."
   ]
  },
  {
   "cell_type": "code",
   "execution_count": 14,
   "id": "82354944",
   "metadata": {},
   "outputs": [
    {
     "name": "stdout",
     "output_type": "stream",
     "text": [
      "Testing Performance: 0.8452\n"
     ]
    }
   ],
   "source": [
    "### Get the prediction score\n",
    "test_score = rf.score(x_test, y_test) \n",
    "# including to use rf to predict test data test_features and \n",
    "# comparison with ground truth test_labels\n",
    "\n",
    "print (\"Testing Performance:\", \"%.4f\" % test_score)"
   ]
  },
  {
   "cell_type": "code",
   "execution_count": 29,
   "id": "7fa6e721",
   "metadata": {},
   "outputs": [
    {
     "name": "stdout",
     "output_type": "stream",
     "text": [
      "Predicted Labels: [0 1] = [7451 1592]\n"
     ]
    }
   ],
   "source": [
    "### Get the predicted labels\n",
    "y_pred = rf.predict(x_test)\n",
    "\n",
    "#We want to get how many examples in each class in test data\n",
    "count_prediction = np.unique(y_pred, return_counts=True)\n",
    "print('Predicted Labels:', count_prediction[0], \"=\", count_prediction[1])"
   ]
  },
  {
   "cell_type": "code",
   "execution_count": 30,
   "id": "922dfaa0",
   "metadata": {},
   "outputs": [
    {
     "data": {
      "image/png": "[encoded data removed]",
      "text/plain": [
       "<Figure size 640x480 with 2 Axes>"
      ]
     },
     "metadata": {},
     "output_type": "display_data"
    }
   ],
   "source": [
    "#Confusion Metrix\n",
    "confusion_matrix = metrics.confusion_matrix(y_test, y_pred)\n",
    "\n",
    "cm_display = metrics.ConfusionMatrixDisplay(confusion_matrix = confusion_matrix, display_labels = [False, True])\n",
    "cm_display.plot()\n",
    "plt.show()"
   ]
  },
  {
   "cell_type": "code",
   "execution_count": 31,
   "id": "19e65611",
   "metadata": {},
   "outputs": [
    {
     "name": "stdout",
     "output_type": "stream",
     "text": [
      "[[7018  967]\n",
      " [ 433  625]]\n",
      "              precision    recall  f1-score   support\n",
      "\n",
      "           0       0.94      0.88      0.91      7985\n",
      "           1       0.39      0.59      0.47      1058\n",
      "\n",
      "    accuracy                           0.85      9043\n",
      "   macro avg       0.67      0.73      0.69      9043\n",
      "weighted avg       0.88      0.85      0.86      9043\n",
      "\n"
     ]
    }
   ],
   "source": [
    "# Metrics evaluation\n",
    "from sklearn.metrics import classification_report, confusion_matrix\n",
    "print(confusion_matrix(y_test, y_pred))\n",
    "print(classification_report(y_test, y_pred))"
   ]
  },
  {
   "cell_type": "code",
   "execution_count": null,
   "id": "4da8f3c2",
   "metadata": {},
   "outputs": [],
   "source": []
  }
 ],
 "metadata": {
  "kernelspec": {
   "display_name": "Python 3 (ipykernel)",
   "language": "python",
   "name": "python3"
  },
  "language_info": {
   "codemirror_mode": {
    "name": "ipython",
    "version": 3
   },
   "file_extension": ".py",
   "mimetype": "text/x-python",
   "name": "python",
   "nbconvert_exporter": "python",
   "pygments_lexer": "ipython3",
   "version": "3.9.12"
  }
 },
 "nbformat": 4,
 "nbformat_minor": 5
}
